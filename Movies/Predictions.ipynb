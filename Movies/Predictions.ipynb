{
 "cells": [
  {
   "cell_type": "code",
   "execution_count": 257,
   "metadata": {},
   "outputs": [],
   "source": [
    "import pandas as pd\n",
    "import numpy as np\n",
    "import datetime\n",
    "import mysql.connector"
   ]
  },
  {
   "cell_type": "markdown",
   "metadata": {},
   "source": [
    "First need to connect to the database and get the table"
   ]
  },
  {
   "cell_type": "code",
   "execution_count": 258,
   "metadata": {},
   "outputs": [
    {
     "name": "stdout",
     "output_type": "stream",
     "text": [
      "<mysql.connector.connection_cext.CMySQLConnection object at 0x1237aac90>\n"
     ]
    }
   ],
   "source": [
    "mydb = mysql.connector.connect(\n",
    "  host=\"cinesave-2.chxybcbl9we4.us-east-1.rds.amazonaws.com\",\n",
    "  user=\"admin\",\n",
    "  password=\"Cinesave1\",\n",
    "  database = \"sample\"\n",
    ")\n",
    "print(mydb)\n",
    "mycursor = mydb.cursor()\n",
    "\n",
    "mycursor.execute(\"SELECT * FROM movie_revenue\")\n",
    "\n",
    "myresult = mycursor.fetchall()\n",
    "df = pd.DataFrame(myresult, columns = mycursor.column_names)"
   ]
  },
  {
   "cell_type": "markdown",
   "metadata": {},
   "source": [
    "Now just check that the data was loaded properly"
   ]
  },
  {
   "cell_type": "code",
   "execution_count": 259,
   "metadata": {},
   "outputs": [
    {
     "name": "stdout",
     "output_type": "stream",
     "text": [
      "                     name                  collection    budget      genre  \\\n",
      "0               Toy Story        Toy Story Collection  30000000  Animation   \n",
      "1             Toy Story\\n        Toy Story Collection  30000000  Animation   \n",
      "2       American Psycho\\n  American Psycho Collection   7000000   Thriller   \n",
      "3                Psycho\\n           Psycho Collection    806948     Horror   \n",
      "4  Star Wars A new Hope\\n        Star Wars Collection  11000000  Adventure   \n",
      "\n",
      "   popularity release_date    revenue  runtime vote_average  vote_count  \\\n",
      "0          43   1995-10-30  373554033     81.0            8       12737   \n",
      "1          43   1995-10-30  373554033     81.0            8       12737   \n",
      "2          23   2000-01-21   34266564    102.0            7        5657   \n",
      "3          26   1960-06-22   32000000    109.0            8        6480   \n",
      "4          79   1977-05-25  775398007    121.0            8       14066   \n",
      "\n",
      "    production_company   earnings  \n",
      "0                Pixar  343554033  \n",
      "1                Pixar  343554033  \n",
      "2     Muse Productions   27266564  \n",
      "3  Shamley Productions   31193052  \n",
      "4       Lucasfilm Ltd.  764398007  \n"
     ]
    }
   ],
   "source": [
    "print(df.iloc[:5,:]) #make sure the data has been properly loaded"
   ]
  },
  {
   "cell_type": "markdown",
   "metadata": {},
   "source": [
    "There appear to be '\\n' characters in some of the names, so start by replacing those with blanks"
   ]
  },
  {
   "cell_type": "code",
   "execution_count": 260,
   "metadata": {},
   "outputs": [],
   "source": [
    "df['name'] = df['name'].str.replace('\\n', '')\n"
   ]
  },
  {
   "cell_type": "markdown",
   "metadata": {},
   "source": [
    "We also see some duplicate names, such as with \"Toy Story\" athe very beginning, so we want to remove rows with repeat movies and check out the new dimensions"
   ]
  },
  {
   "cell_type": "code",
   "execution_count": 261,
   "metadata": {},
   "outputs": [
    {
     "name": "stdout",
     "output_type": "stream",
     "text": [
      "                   name                     collection    budget      genre  \\\n",
      "0             Toy Story           Toy Story Collection  30000000  Animation   \n",
      "2       American Psycho     American Psycho Collection   7000000   Thriller   \n",
      "3                Psycho              Psycho Collection    806948     Horror   \n",
      "4  Star Wars A new Hope           Star Wars Collection  11000000  Adventure   \n",
      "5    Back to the Future  Back to the Future Collection  19000000  Adventure   \n",
      "\n",
      "   popularity release_date    revenue  runtime vote_average  vote_count  \\\n",
      "0          43   1995-10-30  373554033     81.0            8       12737   \n",
      "2          23   2000-01-21   34266564    102.0            7        5657   \n",
      "3          26   1960-06-22   32000000    109.0            8        6480   \n",
      "4          79   1977-05-25  775398007    121.0            8       14066   \n",
      "5          51   1985-07-03  381109762    116.0            8       13592   \n",
      "\n",
      "    production_company   earnings  \n",
      "0                Pixar  343554033  \n",
      "2     Muse Productions   27266564  \n",
      "3  Shamley Productions   31193052  \n",
      "4       Lucasfilm Ltd.  764398007  \n",
      "5  U-Drive Productions  362109762  \n"
     ]
    },
    {
     "data": {
      "text/plain": [
       "776892"
      ]
     },
     "execution_count": 261,
     "metadata": {},
     "output_type": "execute_result"
    }
   ],
   "source": [
    "df = df.drop_duplicates(subset = \"name\")\n",
    "print(df.iloc[:5,:])\n",
    "df.size"
   ]
  },
  {
   "cell_type": "markdown",
   "metadata": {},
   "source": [
    "Succesfully dropped repeats and see that we are down to ~780000 movies"
   ]
  },
  {
   "cell_type": "markdown",
   "metadata": {},
   "source": [
    "In order to not have to deal with issues of inflation, etc., we will want to limit our research to only movies released in 2000 or later. So we need to make a release year column and filter based on that"
   ]
  },
  {
   "cell_type": "code",
   "execution_count": 262,
   "metadata": {},
   "outputs": [],
   "source": [
    "df.dtypes\n",
    "df['release_date'] = df['release_date'].astype('datetime64[ns]')\n",
    "df['year'] = pd.DatetimeIndex(df['release_date']).year"
   ]
  },
  {
   "cell_type": "markdown",
   "metadata": {},
   "source": [
    "Now that we have a year column we can get the rows with year greater than or equal to 2000"
   ]
  },
  {
   "cell_type": "code",
   "execution_count": 263,
   "metadata": {},
   "outputs": [
    {
     "name": "stdout",
     "output_type": "stream",
     "text": [
      "                          name                  collection    budget  \\\n",
      "2              American Psycho  American Psycho Collection   7000000   \n",
      "9   The Other Side of the Wind                              12000000   \n",
      "11    The Wandering Soap Opera                                     0   \n",
      "13                     Bigfoot                              30000000   \n",
      "15               For the Cause                                     0   \n",
      "\n",
      "              genre  popularity release_date   revenue  runtime vote_average  \\\n",
      "2          Thriller          23   2000-01-21  34266564    102.0            7   \n",
      "9            Comedy          12   2018-11-02         0    122.0            7   \n",
      "11          Fantasy           1   2017-08-10         0     80.0            7   \n",
      "13        Animation          21   2017-07-26  46372519     92.0            6   \n",
      "15  Science Fiction           3   2000-11-15         0    100.0            4   \n",
      "\n",
      "    vote_count production_company  earnings    year  \n",
      "2         5657   Muse Productions  27266564  2000.0  \n",
      "9          101               SACI -12000000  2018.0  \n",
      "11           6         Poetastros         0  2017.0  \n",
      "13         227        StudioCanal  16372519  2017.0  \n",
      "15           6    Dimension Films         0  2000.0  \n"
     ]
    },
    {
     "data": {
      "text/plain": [
       "723593"
      ]
     },
     "execution_count": 263,
     "metadata": {},
     "output_type": "execute_result"
    }
   ],
   "source": [
    "df = df.loc[df['year'] >= 2000]\n",
    "print(df.iloc[:5,:])\n",
    "df.size"
   ]
  },
  {
   "cell_type": "markdown",
   "metadata": {},
   "source": [
    "This was successful and we are now down to ~55661 movies."
   ]
  },
  {
   "cell_type": "markdown",
   "metadata": {},
   "source": [
    "There is some strange behavior with movies that have 0 budget or 0 revenue, which are movies we are not considered with and need to remove from the dataset"
   ]
  },
  {
   "cell_type": "code",
   "execution_count": 264,
   "metadata": {},
   "outputs": [
    {
     "data": {
      "text/plain": [
       "(6386, 13)"
      ]
     },
     "execution_count": 264,
     "metadata": {},
     "output_type": "execute_result"
    }
   ],
   "source": [
    "df = df.loc[df['budget'] > 0]\n",
    "df = df.loc[df['revenue'] > 0]\n",
    "df.shape"
   ]
  },
  {
   "cell_type": "markdown",
   "metadata": {},
   "source": [
    "This significantly cut down the number of movies in the dataset, we are now looking at 6386 movies."
   ]
  },
  {
   "cell_type": "markdown",
   "metadata": {},
   "source": [
    "Let's create a month column as well, as this may be linked to increased earnings around holidays, etc."
   ]
  },
  {
   "cell_type": "code",
   "execution_count": 265,
   "metadata": {},
   "outputs": [
    {
     "name": "stdout",
     "output_type": "stream",
     "text": [
      "                         name                  collection     budget  \\\n",
      "2             American Psycho  American Psycho Collection    7000000   \n",
      "13                    Bigfoot                               30000000   \n",
      "19                       Gang                               30000000   \n",
      "24                    Glitter                               22000000   \n",
      "34  The Sorcerer's Apprentice                              150000000   \n",
      "\n",
      "        genre  popularity release_date    revenue  runtime vote_average  \\\n",
      "2    Thriller          23   2000-01-21   34266564    102.0            7   \n",
      "13  Animation          21   2017-07-26   46372519     92.0            6   \n",
      "19     Action          14   2006-09-15   41480851    125.0            7   \n",
      "24      Drama           8   2001-09-21    5271666    104.0            4   \n",
      "34    Fantasy          23   2010-07-13  215283742    109.0            6   \n",
      "\n",
      "    vote_count    production_company  earnings    year  month  \n",
      "2         5657      Muse Productions  27266564  2000.0      1  \n",
      "13         227           StudioCanal  16372519  2017.0      7  \n",
      "19         503     Columbia Pictures  11480851  2006.0      9  \n",
      "24          85   Glitter Productions -16728334  2001.0      9  \n",
      "34        3579  Walt Disney Pictures  65283742  2010.0      7  \n"
     ]
    }
   ],
   "source": [
    "df['month'] = pd.DatetimeIndex(df['release_date']).month\n",
    "print(df.iloc[:5,:])"
   ]
  },
  {
   "cell_type": "markdown",
   "metadata": {},
   "source": [
    "The categorical variables that we have are collection, genre, and production_company. Let's start with collection, where my intuition is what it's important is whether or not a movie is in a collection at all. "
   ]
  },
  {
   "cell_type": "code",
   "execution_count": 266,
   "metadata": {},
   "outputs": [],
   "source": [
    "df['in_collection'] = np.where(df['collection'] == '', 0, 1)"
   ]
  },
  {
   "cell_type": "markdown",
   "metadata": {},
   "source": [
    "Let's check what percent of movies are in a collection"
   ]
  },
  {
   "cell_type": "code",
   "execution_count": 267,
   "metadata": {},
   "outputs": [
    {
     "data": {
      "text/plain": [
       "0.2209520826808644"
      ]
     },
     "execution_count": 267,
     "metadata": {},
     "output_type": "execute_result"
    }
   ],
   "source": [
    "df['in_collection'].mean()"
   ]
  },
  {
   "cell_type": "markdown",
   "metadata": {},
   "source": [
    "Now let's see what the mean earnings are grouped by whether or not it is in a collection"
   ]
  },
  {
   "cell_type": "code",
   "execution_count": 268,
   "metadata": {},
   "outputs": [
    {
     "data": {
      "text/plain": [
       "in_collection\n",
       "0    7.501398e+07\n",
       "1    2.876417e+08\n",
       "Name: revenue, dtype: float64"
      ]
     },
     "execution_count": 268,
     "metadata": {},
     "output_type": "execute_result"
    }
   ],
   "source": [
    "df.groupby('in_collection')['revenue'].mean()"
   ]
  },
  {
   "cell_type": "markdown",
   "metadata": {},
   "source": [
    "Movies in collections make more money so good to keep this column as is. Next let's turn to genre. First, we need to see how many different genres there are. We can look at this and the earnings means at the same time"
   ]
  },
  {
   "cell_type": "code",
   "execution_count": 269,
   "metadata": {},
   "outputs": [
    {
     "data": {
      "text/plain": [
       "genre\n",
       "Action             1.998259e+08\n",
       "Adventure          3.304610e+08\n",
       "Animation          2.751604e+08\n",
       "Comedy             6.985956e+07\n",
       "Crime              6.918445e+07\n",
       "Documentary        1.396956e+07\n",
       "Drama              6.538012e+07\n",
       "Family             2.074294e+08\n",
       "Fantasy            1.854220e+08\n",
       "History            1.081493e+08\n",
       "Horror             6.582222e+07\n",
       "Music              4.824655e+07\n",
       "Mystery            8.492243e+07\n",
       "Romance            5.201075e+07\n",
       "Science Fiction    1.764738e+08\n",
       "TV Movie           5.000000e+06\n",
       "Thriller           6.967206e+07\n",
       "War                1.399181e+08\n",
       "Western            1.675938e+08\n",
       "Name: revenue, dtype: float64"
      ]
     },
     "execution_count": 269,
     "metadata": {},
     "output_type": "execute_result"
    }
   ],
   "source": [
    "df.groupby('genre')['revenue'].mean()"
   ]
  },
  {
   "cell_type": "markdown",
   "metadata": {},
   "source": [
    "It's hard to see any clear trends here so we'll likely leave it as a factor later on. Finally let's look at the production company."
   ]
  },
  {
   "cell_type": "code",
   "execution_count": 270,
   "metadata": {},
   "outputs": [
    {
     "data": {
      "text/plain": [
       "2080"
      ]
     },
     "execution_count": 270,
     "metadata": {},
     "output_type": "execute_result"
    }
   ],
   "source": [
    "df['production_company'].nunique()"
   ]
  },
  {
   "cell_type": "markdown",
   "metadata": {},
   "source": [
    "There's too many production companies to sift through at once. We are most interested in how many movies a comapany has put out, so let's create a column in the dataframe that, for each movie, says how many movies the production company from that movie has put out."
   ]
  },
  {
   "cell_type": "code",
   "execution_count": 271,
   "metadata": {},
   "outputs": [
    {
     "name": "stdout",
     "output_type": "stream",
     "text": [
      "                         name                  collection     budget  \\\n",
      "2             American Psycho  American Psycho Collection    7000000   \n",
      "13                    Bigfoot                               30000000   \n",
      "19                       Gang                               30000000   \n",
      "24                    Glitter                               22000000   \n",
      "34  The Sorcerer's Apprentice                              150000000   \n",
      "\n",
      "        genre  popularity release_date    revenue  runtime vote_average  \\\n",
      "2    Thriller          23   2000-01-21   34266564    102.0            7   \n",
      "13  Animation          21   2017-07-26   46372519     92.0            6   \n",
      "19     Action          14   2006-09-15   41480851    125.0            7   \n",
      "24      Drama           8   2001-09-21    5271666    104.0            4   \n",
      "34    Fantasy          23   2010-07-13  215283742    109.0            6   \n",
      "\n",
      "    vote_count    production_company  earnings    year  month  in_collection  \\\n",
      "2         5657      Muse Productions  27266564  2000.0      1              1   \n",
      "13         227           StudioCanal  16372519  2017.0      7              0   \n",
      "19         503     Columbia Pictures  11480851  2006.0      9              0   \n",
      "24          85   Glitter Productions -16728334  2001.0      9              0   \n",
      "34        3579  Walt Disney Pictures  65283742  2010.0      7              0   \n",
      "\n",
      "    prod_company_popularity  \n",
      "2                         1  \n",
      "13                       23  \n",
      "19                      152  \n",
      "24                        1  \n",
      "34                      116  \n"
     ]
    }
   ],
   "source": [
    "grouped = df.groupby('production_company')['budget'].count().sort_values(ascending = False)\n",
    "grouped = pd.DataFrame(grouped)\n",
    "grouped['production_company'] = grouped.index\n",
    "grouped = grouped.reset_index(drop = True)\n",
    "prod_count_dict = grouped.set_index('production_company')['budget'].to_dict()\n",
    "df['prod_company_popularity'] = df['production_company'].map(prod_count_dict)\n",
    "print(df.iloc[:5,:])"
   ]
  },
  {
   "cell_type": "markdown",
   "metadata": {},
   "source": [
    "Now, to see what effect this has, we can look at the correlation between the prod_company_popularity column and the earnings column."
   ]
  },
  {
   "cell_type": "code",
   "execution_count": 272,
   "metadata": {},
   "outputs": [
    {
     "data": {
      "text/plain": [
       "0.22476934460515405"
      ]
     },
     "execution_count": 272,
     "metadata": {},
     "output_type": "execute_result"
    }
   ],
   "source": [
    "df['revenue'].corr(df['prod_company_popularity'])"
   ]
  },
  {
   "cell_type": "markdown",
   "metadata": {},
   "source": [
    "It's not a huge correlation but definitely significant so we'll keep the column there. This means we can also now get rid of the original production_company column, as well as the original collection column"
   ]
  },
  {
   "cell_type": "code",
   "execution_count": 273,
   "metadata": {},
   "outputs": [],
   "source": [
    "df = df.drop(columns=['production_company'])\n",
    "df = df.drop(columns=['collection'])"
   ]
  },
  {
   "cell_type": "markdown",
   "metadata": {},
   "source": [
    "Now we look at how movie earnings are related to the month of release."
   ]
  },
  {
   "cell_type": "code",
   "execution_count": 274,
   "metadata": {},
   "outputs": [
    {
     "data": {
      "text/plain": [
       "month\n",
       "1     6.504499e+07\n",
       "2     1.145407e+08\n",
       "3     9.626176e+07\n",
       "4     1.478477e+08\n",
       "5     1.658108e+08\n",
       "6     2.006383e+08\n",
       "7     1.634321e+08\n",
       "8     7.507844e+07\n",
       "9     5.759475e+07\n",
       "10    9.270612e+07\n",
       "11    1.740450e+08\n",
       "12    1.588463e+08\n",
       "Name: revenue, dtype: float64"
      ]
     },
     "execution_count": 274,
     "metadata": {},
     "output_type": "execute_result"
    }
   ],
   "source": [
    "df.groupby('month')['revenue'].mean()"
   ]
  },
  {
   "cell_type": "markdown",
   "metadata": {},
   "source": [
    "There seem to be two pockets of increased sales: between april and june, and during decemeber and january."
   ]
  },
  {
   "cell_type": "code",
   "execution_count": 275,
   "metadata": {},
   "outputs": [],
   "source": [
    "month_list = [4, 5, 6, 7, 11, 12]\n",
    "df['holiday_season'] = np.where(df['month'].isin(month_list), 1, 0)"
   ]
  },
  {
   "cell_type": "markdown",
   "metadata": {},
   "source": [
    "We no longer need the release_date column now"
   ]
  },
  {
   "cell_type": "code",
   "execution_count": 276,
   "metadata": {},
   "outputs": [],
   "source": [
    "df = df.drop(columns=['release_date'])"
   ]
  },
  {
   "cell_type": "markdown",
   "metadata": {},
   "source": [
    "Due to the financial crisis, year is difficult to work with so we'll make it a category, as with genre"
   ]
  },
  {
   "cell_type": "code",
   "execution_count": 277,
   "metadata": {},
   "outputs": [],
   "source": [
    "df['genre'] = df['genre'].astype('category')\n",
    "df['year'] = df['year'].astype('category')"
   ]
  },
  {
   "cell_type": "code",
   "execution_count": 278,
   "metadata": {},
   "outputs": [],
   "source": [
    "df['vote_average'] = df['vote_average'].astype('float64')\n",
    "df_numeric = df.select_dtypes(include = ['int64', 'float64'])"
   ]
  },
  {
   "cell_type": "code",
   "execution_count": 279,
   "metadata": {},
   "outputs": [
    {
     "data": {
      "text/plain": [
       "0.508823433203826"
      ]
     },
     "execution_count": 279,
     "metadata": {},
     "output_type": "execute_result"
    }
   ],
   "source": [
    "df_numeric.corr()['revenue'][:].mean()"
   ]
  },
  {
   "cell_type": "markdown",
   "metadata": {},
   "source": [
    "Important to note here that we now need to get rid of the revenue column, as this is information we assume to not know ahead of time"
   ]
  },
  {
   "cell_type": "code",
   "execution_count": 280,
   "metadata": {},
   "outputs": [],
   "source": [
    "df = df.drop(columns = ['earnings'])"
   ]
  },
  {
   "cell_type": "markdown",
   "metadata": {},
   "source": [
    "To start with, let's not use the name column, so we create a new dataframe without this value"
   ]
  },
  {
   "cell_type": "code",
   "execution_count": 293,
   "metadata": {},
   "outputs": [],
   "source": [
    "df_noname = df.drop(columns = ['name'])"
   ]
  },
  {
   "cell_type": "code",
   "execution_count": 294,
   "metadata": {},
   "outputs": [
    {
     "name": "stdout",
     "output_type": "stream",
     "text": [
      "       budget      genre  popularity    revenue  runtime  vote_average  \\\n",
      "2     7000000   Thriller          23   34266564    102.0           7.0   \n",
      "13   30000000  Animation          21   46372519     92.0           6.0   \n",
      "19   30000000     Action          14   41480851    125.0           7.0   \n",
      "24   22000000      Drama           8    5271666    104.0           4.0   \n",
      "34  150000000    Fantasy          23  215283742    109.0           6.0   \n",
      "\n",
      "    vote_count    year  month  in_collection  prod_company_popularity  \\\n",
      "2         5657  2000.0      1              1                        1   \n",
      "13         227  2017.0      7              0                       23   \n",
      "19         503  2006.0      9              0                      152   \n",
      "24          85  2001.0      9              0                        1   \n",
      "34        3579  2010.0      7              0                      116   \n",
      "\n",
      "    holiday_season  \n",
      "2                0  \n",
      "13               1  \n",
      "19               0  \n",
      "24               0  \n",
      "34               1  \n"
     ]
    }
   ],
   "source": [
    "print(df_noname.iloc[:5,:])"
   ]
  },
  {
   "cell_type": "markdown",
   "metadata": {},
   "source": [
    "Before we do modeling we make assumptions about the distributions of the data. Thus we need to check the skewness of our numeric columns and, if they have an absolute value greater than 1, we need to take the log"
   ]
  },
  {
   "cell_type": "code",
   "execution_count": 295,
   "metadata": {},
   "outputs": [
    {
     "data": {
      "text/plain": [
       "budget                    -2.877721\n",
       "popularity                -1.353114\n",
       "revenue                   -1.903668\n",
       "runtime                    0.185696\n",
       "vote_average              -8.642995\n",
       "vote_count                -0.989501\n",
       "month                     -0.159385\n",
       "in_collection              1.345488\n",
       "prod_company_popularity    0.570771\n",
       "holiday_season             0.152055\n",
       "dtype: float64"
      ]
     },
     "execution_count": 295,
     "metadata": {},
     "output_type": "execute_result"
    }
   ],
   "source": [
    "df_numeric.skew(axis = 0) #check the skewness of each column"
   ]
  },
  {
   "cell_type": "markdown",
   "metadata": {},
   "source": [
    "Using the above values, we now take log transformations of columns with a skew greater than 1, including the value we're predicting, which is revenue. Important to note that we don't take log transforms of binary variables, such as in_collection, even through its skewness value is greater than 1."
   ]
  },
  {
   "cell_type": "code",
   "execution_count": 296,
   "metadata": {},
   "outputs": [],
   "source": [
    "df_noname['popularity'] = np.log(df_noname['popularity'] + .001)\n",
    "df_noname['revenue'] = np.log(df_noname['revenue'] + 1)\n",
    "df_noname['vote_count'] = np.log(df_noname['vote_count'] + 1)\n",
    "df_noname['prod_company_popularity'] = np.log(df_noname['prod_company_popularity'] + 1)"
   ]
  },
  {
   "cell_type": "markdown",
   "metadata": {},
   "source": [
    "Let's now check the skewness values again"
   ]
  },
  {
   "cell_type": "code",
   "execution_count": 297,
   "metadata": {},
   "outputs": [
    {
     "data": {
      "text/plain": [
       "budget                     2.156048\n",
       "popularity                -1.353114\n",
       "revenue                   -1.903668\n",
       "runtime                    0.185696\n",
       "vote_average              -1.825966\n",
       "vote_count                -0.989501\n",
       "month                     -0.159385\n",
       "in_collection              1.345488\n",
       "prod_company_popularity    0.570771\n",
       "holiday_season             0.152055\n",
       "dtype: float64"
      ]
     },
     "execution_count": 297,
     "metadata": {},
     "output_type": "execute_result"
    }
   ],
   "source": [
    "df_numeric = df_noname.select_dtypes(include = ['int64', 'float64'])\n",
    "df_numeric.skew(axis = 0) #check the skewness of each column"
   ]
  },
  {
   "cell_type": "markdown",
   "metadata": {},
   "source": [
    "Although we don't get under 1 for all the values, we do see improvements."
   ]
  },
  {
   "cell_type": "markdown",
   "metadata": {},
   "source": [
    "We are now ready to do the modeling. We are going to use a gradient boosting approach to perform the regression. Thus, we need to first load the necessary packages. Additionally, we need to do one hot encoding in order to be able to use the categorical data in our model."
   ]
  },
  {
   "cell_type": "code",
   "execution_count": 298,
   "metadata": {},
   "outputs": [],
   "source": [
    "from sklearn import ensemble\n",
    "from sklearn.preprocessing import LabelEncoder \n",
    "from sklearn.preprocessing import OneHotEncoder \n",
    "from sklearn.compose import ColumnTransformer\n",
    "from sklearn.metrics import r2_score\n",
    "import matplotlib.pyplot as plt"
   ]
  },
  {
   "cell_type": "code",
   "execution_count": 299,
   "metadata": {},
   "outputs": [
    {
     "name": "stdout",
     "output_type": "stream",
     "text": [
      "   index     budget      genre  popularity    revenue  runtime  vote_average  \\\n",
      "0      2    7000000   Thriller    3.135538  17.349681    102.0           7.0   \n",
      "1     13   30000000  Animation    3.044570  17.652218     92.0           6.0   \n",
      "2     19   30000000     Action    2.639129  17.540742    125.0           7.0   \n",
      "3     24   22000000      Drama    2.079567  15.477857    104.0           4.0   \n",
      "4     34  150000000    Fantasy    3.135538  19.187467    109.0           6.0   \n",
      "\n",
      "   vote_count    year  month  ...  year12  year13  year14  year15  year16  \\\n",
      "0    8.640826  2000.0      1  ...     0.0     0.0     0.0     0.0     0.0   \n",
      "1    5.429346  2017.0      7  ...     0.0     0.0     0.0     0.0     0.0   \n",
      "2    6.222576  2006.0      9  ...     0.0     0.0     0.0     0.0     0.0   \n",
      "3    4.454347  2001.0      9  ...     0.0     0.0     0.0     0.0     0.0   \n",
      "4    8.183118  2010.0      7  ...     0.0     0.0     0.0     0.0     0.0   \n",
      "\n",
      "   year17  year18  year19  year20  year21  \n",
      "0     0.0     0.0     0.0     0.0     0.0  \n",
      "1     0.0     1.0     0.0     0.0     0.0  \n",
      "2     0.0     0.0     0.0     0.0     0.0  \n",
      "3     0.0     0.0     0.0     0.0     0.0  \n",
      "4     0.0     0.0     0.0     0.0     0.0  \n",
      "\n",
      "[5 rows x 55 columns]\n",
      "index                      0\n",
      "budget                     0\n",
      "genre                      0\n",
      "popularity                 0\n",
      "revenue                    0\n",
      "runtime                    9\n",
      "vote_average               0\n",
      "vote_count                 0\n",
      "year                       0\n",
      "month                      0\n",
      "in_collection              0\n",
      "prod_company_popularity    0\n",
      "holiday_season             0\n",
      "genre_cat                  0\n",
      "year_cat                   0\n",
      "genre1                     0\n",
      "genre2                     0\n",
      "genre3                     0\n",
      "genre4                     0\n",
      "genre5                     0\n",
      "genre6                     0\n",
      "genre7                     0\n",
      "genre8                     0\n",
      "genre9                     0\n",
      "genre10                    0\n",
      "genre11                    0\n",
      "genre12                    0\n",
      "genre13                    0\n",
      "genre14                    0\n",
      "genre15                    0\n",
      "genre16                    0\n",
      "genre17                    0\n",
      "genre18                    0\n",
      "genre19                    0\n",
      "year1                      0\n",
      "year2                      0\n",
      "year3                      0\n",
      "year4                      0\n",
      "year5                      0\n",
      "year6                      0\n",
      "year7                      0\n",
      "year8                      0\n",
      "year9                      0\n",
      "year10                     0\n",
      "year11                     0\n",
      "year12                     0\n",
      "year13                     0\n",
      "year14                     0\n",
      "year15                     0\n",
      "year16                     0\n",
      "year17                     0\n",
      "year18                     0\n",
      "year19                     0\n",
      "year20                     0\n",
      "year21                     0\n",
      "dtype: int64\n"
     ]
    },
    {
     "name": "stderr",
     "output_type": "stream",
     "text": [
      "/Users/dshenker/opt/anaconda3/lib/python3.7/site-packages/sklearn/preprocessing/_encoders.py:415: FutureWarning: The handling of integer data will change in version 0.22. Currently, the categories are determined based on the range [0, max(values)], while in the future they will be determined based on the unique values.\n",
      "If you want the future behaviour and silence this warning, you can specify \"categories='auto'\".\n",
      "In case you used a LabelEncoder before this OneHotEncoder to convert the categories to integers, then you can now use the OneHotEncoder directly.\n",
      "  warnings.warn(msg, FutureWarning)\n",
      "/Users/dshenker/opt/anaconda3/lib/python3.7/site-packages/sklearn/preprocessing/_encoders.py:415: FutureWarning: The handling of integer data will change in version 0.22. Currently, the categories are determined based on the range [0, max(values)], while in the future they will be determined based on the unique values.\n",
      "If you want the future behaviour and silence this warning, you can specify \"categories='auto'\".\n",
      "In case you used a LabelEncoder before this OneHotEncoder to convert the categories to integers, then you can now use the OneHotEncoder directly.\n",
      "  warnings.warn(msg, FutureWarning)\n"
     ]
    }
   ],
   "source": [
    "df_noname = df_noname.reset_index()\n",
    "labelencoder = LabelEncoder()\n",
    "enc = OneHotEncoder()\n",
    "df_noname['genre_cat'] = labelencoder.fit_transform(df_noname['genre'])\n",
    "df_noname['year_cat'] = labelencoder.fit_transform(df_noname['year'])\n",
    "enc_genre_df = pd.DataFrame(enc.fit_transform(df_noname[['genre_cat']]).toarray())\n",
    "enc_genre_df.columns = ['genre1', 'genre2', 'genre3', 'genre4', 'genre5', 'genre6', 'genre7', 'genre8', 'genre9',\n",
    "               'genre10', 'genre11', 'genre12', 'genre13', 'genre14', 'genre15', 'genre16', 'genre17', 'genre18', 'genre19']\n",
    "\n",
    "enc_year_df = pd.DataFrame(enc.fit_transform(df_noname[['year_cat']]).toarray())\n",
    "enc_year_df.columns = ['year1', 'year2', 'year3', 'year4', 'year5', 'year6', 'year7', 'year8', 'year9', 'year10',\n",
    "                      'year11', 'year12', 'year13', 'year14', 'year15', 'year16', 'year17', 'year18', 'year19', 'year20', 'year21']\n",
    "\n",
    "df_noname = df_noname.join(enc_genre_df)\n",
    "df_noname = df_noname.join(enc_year_df)\n",
    "print(df_noname.iloc[:5,:])\n",
    "print(df_noname.isna().sum())"
   ]
  },
  {
   "cell_type": "markdown",
   "metadata": {},
   "source": [
    "Our last remaining issue is that the runtime column has some NaN values in it. We'll replace these with the mean runtime"
   ]
  },
  {
   "cell_type": "code",
   "execution_count": 300,
   "metadata": {},
   "outputs": [
    {
     "name": "stdout",
     "output_type": "stream",
     "text": [
      "index                      0\n",
      "budget                     0\n",
      "genre                      0\n",
      "popularity                 0\n",
      "revenue                    0\n",
      "runtime                    0\n",
      "vote_average               0\n",
      "vote_count                 0\n",
      "year                       0\n",
      "month                      0\n",
      "in_collection              0\n",
      "prod_company_popularity    0\n",
      "holiday_season             0\n",
      "genre_cat                  0\n",
      "year_cat                   0\n",
      "genre1                     0\n",
      "genre2                     0\n",
      "genre3                     0\n",
      "genre4                     0\n",
      "genre5                     0\n",
      "genre6                     0\n",
      "genre7                     0\n",
      "genre8                     0\n",
      "genre9                     0\n",
      "genre10                    0\n",
      "genre11                    0\n",
      "genre12                    0\n",
      "genre13                    0\n",
      "genre14                    0\n",
      "genre15                    0\n",
      "genre16                    0\n",
      "genre17                    0\n",
      "genre18                    0\n",
      "genre19                    0\n",
      "year1                      0\n",
      "year2                      0\n",
      "year3                      0\n",
      "year4                      0\n",
      "year5                      0\n",
      "year6                      0\n",
      "year7                      0\n",
      "year8                      0\n",
      "year9                      0\n",
      "year10                     0\n",
      "year11                     0\n",
      "year12                     0\n",
      "year13                     0\n",
      "year14                     0\n",
      "year15                     0\n",
      "year16                     0\n",
      "year17                     0\n",
      "year18                     0\n",
      "year19                     0\n",
      "year20                     0\n",
      "year21                     0\n",
      "dtype: int64\n"
     ]
    }
   ],
   "source": [
    "df_noname['runtime'] = df_noname['runtime'].fillna(df_noname['runtime'].mean())\n",
    "print(df_noname.isna().sum())"
   ]
  },
  {
   "cell_type": "markdown",
   "metadata": {},
   "source": [
    "Our columns are now properly encoded, meaning we can move to applying the gradient boosting algorithm. First, we need to split our data into a train and test set. We'll use 70% for train and 30% for test. Additionally, we split our data into X (features) and y (output) sets as well"
   ]
  },
  {
   "cell_type": "code",
   "execution_count": 301,
   "metadata": {},
   "outputs": [],
   "source": [
    "import sklearn.model_selection as model_selection\n",
    "X = df_noname.drop(['index', 'genre', 'revenue', 'year', 'month'], axis = 1)\n",
    "y = df_noname['revenue']\n",
    "[X_train, X_test, y_train, y_test] = model_selection.train_test_split(X, y, train_size=0.7,test_size=0.3, random_state=101)"
   ]
  },
  {
   "cell_type": "code",
   "execution_count": 302,
   "metadata": {},
   "outputs": [],
   "source": [
    "gradient_boosting_regressor = ensemble.GradientBoostingRegressor()"
   ]
  },
  {
   "cell_type": "code",
   "execution_count": 303,
   "metadata": {},
   "outputs": [
    {
     "data": {
      "text/plain": [
       "GradientBoostingRegressor(alpha=0.9, criterion='friedman_mse', init=None,\n",
       "                          learning_rate=0.1, loss='ls', max_depth=3,\n",
       "                          max_features=None, max_leaf_nodes=None,\n",
       "                          min_impurity_decrease=0.0, min_impurity_split=None,\n",
       "                          min_samples_leaf=1, min_samples_split=2,\n",
       "                          min_weight_fraction_leaf=0.0, n_estimators=100,\n",
       "                          n_iter_no_change=None, presort='auto',\n",
       "                          random_state=None, subsample=1.0, tol=0.0001,\n",
       "                          validation_fraction=0.1, verbose=0, warm_start=False)"
      ]
     },
     "execution_count": 303,
     "metadata": {},
     "output_type": "execute_result"
    }
   ],
   "source": [
    "gradient_boosting_regressor.fit(X_train, y_train)"
   ]
  },
  {
   "cell_type": "code",
   "execution_count": 304,
   "metadata": {},
   "outputs": [
    {
     "name": "stdout",
     "output_type": "stream",
     "text": [
      "0.8123661543461652\n"
     ]
    }
   ],
   "source": [
    "print(gradient_boosting_regressor.score(X_train, y_train))"
   ]
  },
  {
   "cell_type": "code",
   "execution_count": 305,
   "metadata": {},
   "outputs": [],
   "source": [
    "y_test_predictions = gradient_boosting_regressor.predict(X_test)"
   ]
  },
  {
   "cell_type": "code",
   "execution_count": 315,
   "metadata": {},
   "outputs": [
    {
     "data": {
      "text/plain": [
       "0.8077151267322737"
      ]
     },
     "execution_count": 315,
     "metadata": {},
     "output_type": "execute_result"
    }
   ],
   "source": [
    "#r2_score(y_test, y_test_predictions)\n",
    "r2_score(np.exp(y_test), np.exp(y_test_predictions))"
   ]
  },
  {
   "cell_type": "code",
   "execution_count": 307,
   "metadata": {},
   "outputs": [],
   "source": [
    "feature_importance = gradient_boosting_regressor.feature_importances_"
   ]
  },
  {
   "cell_type": "code",
   "execution_count": 308,
   "metadata": {},
   "outputs": [
    {
     "data": {
      "text/plain": [
       "array([3.98750636e-01, 1.01895881e-02, 2.84194458e-02, 3.50089859e-03,\n",
       "       5.03925389e-01, 1.48609427e-02, 1.53932125e-02, 1.53839060e-04,\n",
       "       2.39524973e-03, 9.74486577e-03, 0.00000000e+00, 0.00000000e+00,\n",
       "       3.09358398e-04, 3.09391563e-03, 1.09969051e-04, 9.60087895e-05,\n",
       "       0.00000000e+00, 1.54759801e-04, 0.00000000e+00, 5.90757417e-05,\n",
       "       1.00334718e-03, 5.43352487e-04, 0.00000000e+00, 8.94802205e-05,\n",
       "       3.00647848e-04, 1.85860167e-04, 2.94559141e-04, 2.56198512e-04,\n",
       "       2.30457212e-04, 1.41374117e-03, 0.00000000e+00, 0.00000000e+00,\n",
       "       6.70535422e-04, 4.74098057e-04, 0.00000000e+00, 7.48326681e-05,\n",
       "       0.00000000e+00, 0.00000000e+00, 8.79848756e-05, 0.00000000e+00,\n",
       "       1.91293877e-04, 2.12469846e-03, 1.27323370e-04, 2.37007097e-04,\n",
       "       3.40982621e-04, 4.04465160e-05, 0.00000000e+00, 1.43096087e-04,\n",
       "       1.29021102e-05, 0.00000000e+00])"
      ]
     },
     "execution_count": 308,
     "metadata": {},
     "output_type": "execute_result"
    }
   ],
   "source": [
    "feature_importance"
   ]
  },
  {
   "cell_type": "code",
   "execution_count": 309,
   "metadata": {},
   "outputs": [
    {
     "data": {
      "text/plain": [
       "Text(0.5, 1.0, 'Feature Importance (MDI)')"
      ]
     },
     "execution_count": 309,
     "metadata": {},
     "output_type": "execute_result"
    },
    {
     "data": {
      "image/png": "[encoded data removed]",
      "text/plain": [
       "<Figure size 864x432 with 1 Axes>"
      ]
     },
     "metadata": {
      "needs_background": "light"
     },
     "output_type": "display_data"
    }
   ],
   "source": [
    "sorted_idx = np.argsort(feature_importance)\n",
    "pos = np.arange(sorted_idx.shape[0]) + .5\n",
    "fig = plt.figure(figsize=(12, 6))\n",
    "plt.subplot(1, 2, 1)\n",
    "plt.barh(pos, feature_importance[sorted_idx], align='center')\n",
    "plt.yticks(pos, np.array(X_train.columns)[sorted_idx])\n",
    "plt.title('Feature Importance (MDI)')"
   ]
  },
  {
   "cell_type": "code",
   "execution_count": 310,
   "metadata": {},
   "outputs": [
    {
     "data": {
      "image/png": "[encoded data removed]",
      "text/plain": [
       "<Figure size 432x288 with 1 Axes>"
      ]
     },
     "metadata": {
      "needs_background": "light"
     },
     "output_type": "display_data"
    }
   ],
   "source": [
    "g=plt.scatter(y_test, y_test_predictions)"
   ]
  },
  {
   "cell_type": "code",
   "execution_count": 311,
   "metadata": {},
   "outputs": [
    {
     "data": {
      "image/png": "[encoded data removed]",
      "text/plain": [
       "<Figure size 432x288 with 1 Axes>"
      ]
     },
     "metadata": {
      "needs_background": "light"
     },
     "output_type": "display_data"
    }
   ],
   "source": [
    "g=plt.plot(y_test - y_test_predictions,marker='o',linestyle='')"
   ]
  },
  {
   "cell_type": "code",
   "execution_count": 312,
   "metadata": {},
   "outputs": [
    {
     "data": {
      "text/plain": [
       "0.006006196543596565"
      ]
     },
     "execution_count": 312,
     "metadata": {},
     "output_type": "execute_result"
    }
   ],
   "source": [
    "np.mean(y_test - y_test_predictions)"
   ]
  },
  {
   "cell_type": "code",
   "execution_count": 313,
   "metadata": {},
   "outputs": [
    {
     "data": {
      "text/plain": [
       "16.842840412180436"
      ]
     },
     "execution_count": 313,
     "metadata": {},
     "output_type": "execute_result"
    }
   ],
   "source": [
    "np.mean(y_test)"
   ]
  },
  {
   "cell_type": "code",
   "execution_count": null,
   "metadata": {},
   "outputs": [],
   "source": []
  }
 ],
 "metadata": {
  "kernelspec": {
   "display_name": "Python 3",
   "language": "python",
   "name": "python3"
  },
  "language_info": {
   "codemirror_mode": {
    "name": "ipython",
    "version": 3
   },
   "file_extension": ".py",
   "mimetype": "text/x-python",
   "name": "python",
   "nbconvert_exporter": "python",
   "pygments_lexer": "ipython3",
   "version": "3.7.4"
  }
 },
 "nbformat": 4,
 "nbformat_minor": 2
}
