{
 "cells": [
  {
   "cell_type": "markdown",
   "metadata": {},
   "source": [
    "We will use January flight data from 2019 and 2020 from Kaggle in order to predict whether or not a flight arrived 15 minutes or more past its expected time. This is treated as a binary variable where 1 indicates that there was a delayed arrival and 0 indicates that there was not"
   ]
  },
  {
   "cell_type": "markdown",
   "metadata": {},
   "source": [
    "To start we load the 2 datasets and concatenate them into a single Pandas dataframe"
   ]
  },
  {
   "cell_type": "code",
   "execution_count": 234,
   "metadata": {},
   "outputs": [],
   "source": [
    "import pandas as pd\n",
    "import numpy as np\n",
    "import datetime"
   ]
  },
  {
   "cell_type": "code",
   "execution_count": 235,
   "metadata": {},
   "outputs": [],
   "source": [
    "df_2019 = pd.read_csv('Jan_2019_ontime.csv')\n",
    "df_2020 = pd.read_csv('Jan_2020_ontime.csv')\n",
    "df = pd.concat([df_2019, df_2020])"
   ]
  },
  {
   "cell_type": "code",
   "execution_count": 236,
   "metadata": {},
   "outputs": [
    {
     "data": {
      "text/html": [
       "<div>\n",
       "<style scoped>\n",
       "    .dataframe tbody tr th:only-of-type {\n",
       "        vertical-align: middle;\n",
       "    }\n",
       "\n",
       "    .dataframe tbody tr th {\n",
       "        vertical-align: top;\n",
       "    }\n",
       "\n",
       "    .dataframe thead th {\n",
       "        text-align: right;\n",
       "    }\n",
       "</style>\n",
       "<table border=\"1\" class=\"dataframe\">\n",
       "  <thead>\n",
       "    <tr style=\"text-align: right;\">\n",
       "      <th></th>\n",
       "      <th>DAY_OF_MONTH</th>\n",
       "      <th>DAY_OF_WEEK</th>\n",
       "      <th>OP_UNIQUE_CARRIER</th>\n",
       "      <th>OP_CARRIER_AIRLINE_ID</th>\n",
       "      <th>OP_CARRIER</th>\n",
       "      <th>TAIL_NUM</th>\n",
       "      <th>OP_CARRIER_FL_NUM</th>\n",
       "      <th>ORIGIN_AIRPORT_ID</th>\n",
       "      <th>ORIGIN_AIRPORT_SEQ_ID</th>\n",
       "      <th>ORIGIN</th>\n",
       "      <th>...</th>\n",
       "      <th>DEST</th>\n",
       "      <th>DEP_TIME</th>\n",
       "      <th>DEP_DEL15</th>\n",
       "      <th>DEP_TIME_BLK</th>\n",
       "      <th>ARR_TIME</th>\n",
       "      <th>ARR_DEL15</th>\n",
       "      <th>CANCELLED</th>\n",
       "      <th>DIVERTED</th>\n",
       "      <th>DISTANCE</th>\n",
       "      <th>Unnamed: 21</th>\n",
       "    </tr>\n",
       "  </thead>\n",
       "  <tbody>\n",
       "    <tr>\n",
       "      <td>0</td>\n",
       "      <td>1</td>\n",
       "      <td>2</td>\n",
       "      <td>9E</td>\n",
       "      <td>20363</td>\n",
       "      <td>9E</td>\n",
       "      <td>N8688C</td>\n",
       "      <td>3280</td>\n",
       "      <td>11953</td>\n",
       "      <td>1195302</td>\n",
       "      <td>GNV</td>\n",
       "      <td>...</td>\n",
       "      <td>ATL</td>\n",
       "      <td>601.0</td>\n",
       "      <td>0.0</td>\n",
       "      <td>0600-0659</td>\n",
       "      <td>722.0</td>\n",
       "      <td>0.0</td>\n",
       "      <td>0.0</td>\n",
       "      <td>0.0</td>\n",
       "      <td>300.0</td>\n",
       "      <td>NaN</td>\n",
       "    </tr>\n",
       "    <tr>\n",
       "      <td>1</td>\n",
       "      <td>1</td>\n",
       "      <td>2</td>\n",
       "      <td>9E</td>\n",
       "      <td>20363</td>\n",
       "      <td>9E</td>\n",
       "      <td>N348PQ</td>\n",
       "      <td>3281</td>\n",
       "      <td>13487</td>\n",
       "      <td>1348702</td>\n",
       "      <td>MSP</td>\n",
       "      <td>...</td>\n",
       "      <td>CVG</td>\n",
       "      <td>1359.0</td>\n",
       "      <td>0.0</td>\n",
       "      <td>1400-1459</td>\n",
       "      <td>1633.0</td>\n",
       "      <td>0.0</td>\n",
       "      <td>0.0</td>\n",
       "      <td>0.0</td>\n",
       "      <td>596.0</td>\n",
       "      <td>NaN</td>\n",
       "    </tr>\n",
       "    <tr>\n",
       "      <td>2</td>\n",
       "      <td>1</td>\n",
       "      <td>2</td>\n",
       "      <td>9E</td>\n",
       "      <td>20363</td>\n",
       "      <td>9E</td>\n",
       "      <td>N8896A</td>\n",
       "      <td>3282</td>\n",
       "      <td>11433</td>\n",
       "      <td>1143302</td>\n",
       "      <td>DTW</td>\n",
       "      <td>...</td>\n",
       "      <td>CVG</td>\n",
       "      <td>1215.0</td>\n",
       "      <td>0.0</td>\n",
       "      <td>1200-1259</td>\n",
       "      <td>1329.0</td>\n",
       "      <td>0.0</td>\n",
       "      <td>0.0</td>\n",
       "      <td>0.0</td>\n",
       "      <td>229.0</td>\n",
       "      <td>NaN</td>\n",
       "    </tr>\n",
       "    <tr>\n",
       "      <td>3</td>\n",
       "      <td>1</td>\n",
       "      <td>2</td>\n",
       "      <td>9E</td>\n",
       "      <td>20363</td>\n",
       "      <td>9E</td>\n",
       "      <td>N8886A</td>\n",
       "      <td>3283</td>\n",
       "      <td>15249</td>\n",
       "      <td>1524906</td>\n",
       "      <td>TLH</td>\n",
       "      <td>...</td>\n",
       "      <td>ATL</td>\n",
       "      <td>1521.0</td>\n",
       "      <td>0.0</td>\n",
       "      <td>1500-1559</td>\n",
       "      <td>1625.0</td>\n",
       "      <td>0.0</td>\n",
       "      <td>0.0</td>\n",
       "      <td>0.0</td>\n",
       "      <td>223.0</td>\n",
       "      <td>NaN</td>\n",
       "    </tr>\n",
       "    <tr>\n",
       "      <td>4</td>\n",
       "      <td>1</td>\n",
       "      <td>2</td>\n",
       "      <td>9E</td>\n",
       "      <td>20363</td>\n",
       "      <td>9E</td>\n",
       "      <td>N8974C</td>\n",
       "      <td>3284</td>\n",
       "      <td>10397</td>\n",
       "      <td>1039707</td>\n",
       "      <td>ATL</td>\n",
       "      <td>...</td>\n",
       "      <td>FSM</td>\n",
       "      <td>1847.0</td>\n",
       "      <td>0.0</td>\n",
       "      <td>1900-1959</td>\n",
       "      <td>1940.0</td>\n",
       "      <td>0.0</td>\n",
       "      <td>0.0</td>\n",
       "      <td>0.0</td>\n",
       "      <td>579.0</td>\n",
       "      <td>NaN</td>\n",
       "    </tr>\n",
       "  </tbody>\n",
       "</table>\n",
       "<p>5 rows × 22 columns</p>\n",
       "</div>"
      ],
      "text/plain": [
       "   DAY_OF_MONTH  DAY_OF_WEEK OP_UNIQUE_CARRIER  OP_CARRIER_AIRLINE_ID  \\\n",
       "0             1            2                9E                  20363   \n",
       "1             1            2                9E                  20363   \n",
       "2             1            2                9E                  20363   \n",
       "3             1            2                9E                  20363   \n",
       "4             1            2                9E                  20363   \n",
       "\n",
       "  OP_CARRIER TAIL_NUM  OP_CARRIER_FL_NUM  ORIGIN_AIRPORT_ID  \\\n",
       "0         9E   N8688C               3280              11953   \n",
       "1         9E   N348PQ               3281              13487   \n",
       "2         9E   N8896A               3282              11433   \n",
       "3         9E   N8886A               3283              15249   \n",
       "4         9E   N8974C               3284              10397   \n",
       "\n",
       "   ORIGIN_AIRPORT_SEQ_ID ORIGIN  ...  DEST  DEP_TIME DEP_DEL15  DEP_TIME_BLK  \\\n",
       "0                1195302    GNV  ...   ATL     601.0       0.0     0600-0659   \n",
       "1                1348702    MSP  ...   CVG    1359.0       0.0     1400-1459   \n",
       "2                1143302    DTW  ...   CVG    1215.0       0.0     1200-1259   \n",
       "3                1524906    TLH  ...   ATL    1521.0       0.0     1500-1559   \n",
       "4                1039707    ATL  ...   FSM    1847.0       0.0     1900-1959   \n",
       "\n",
       "   ARR_TIME ARR_DEL15  CANCELLED  DIVERTED  DISTANCE  Unnamed: 21  \n",
       "0     722.0       0.0        0.0       0.0     300.0          NaN  \n",
       "1    1633.0       0.0        0.0       0.0     596.0          NaN  \n",
       "2    1329.0       0.0        0.0       0.0     229.0          NaN  \n",
       "3    1625.0       0.0        0.0       0.0     223.0          NaN  \n",
       "4    1940.0       0.0        0.0       0.0     579.0          NaN  \n",
       "\n",
       "[5 rows x 22 columns]"
      ]
     },
     "execution_count": 236,
     "metadata": {},
     "output_type": "execute_result"
    }
   ],
   "source": [
    "df.head()"
   ]
  },
  {
   "cell_type": "code",
   "execution_count": 237,
   "metadata": {},
   "outputs": [],
   "source": [
    "df = df.drop(columns = ['Unnamed: 21']) #remove random column full of NaN values"
   ]
  },
  {
   "cell_type": "markdown",
   "metadata": {},
   "source": [
    "Let's start by looking at some summary statistics"
   ]
  },
  {
   "cell_type": "code",
   "execution_count": 238,
   "metadata": {},
   "outputs": [
    {
     "data": {
      "text/plain": [
       "0.18591674720785634"
      ]
     },
     "execution_count": 238,
     "metadata": {},
     "output_type": "execute_result"
    }
   ],
   "source": [
    "np.mean(df['ARR_DEL15']) #percent of flights that arrived late"
   ]
  },
  {
   "cell_type": "code",
   "execution_count": 239,
   "metadata": {},
   "outputs": [
    {
     "name": "stdout",
     "output_type": "stream",
     "text": [
      "DAY_OF_MONTH                 0\n",
      "DAY_OF_WEEK                  0\n",
      "OP_UNIQUE_CARRIER            0\n",
      "OP_CARRIER_AIRLINE_ID        0\n",
      "OP_CARRIER                   0\n",
      "TAIL_NUM                  2543\n",
      "OP_CARRIER_FL_NUM            0\n",
      "ORIGIN_AIRPORT_ID            0\n",
      "ORIGIN_AIRPORT_SEQ_ID        0\n",
      "ORIGIN                       0\n",
      "DEST_AIRPORT_ID              0\n",
      "DEST_AIRPORT_SEQ_ID          0\n",
      "DEST                         0\n",
      "DEP_TIME                 16352\n",
      "DEP_DEL15                16355\n",
      "DEP_TIME_BLK                 0\n",
      "ARR_TIME                 17061\n",
      "ARR_DEL15                18022\n",
      "CANCELLED                    0\n",
      "DIVERTED                     0\n",
      "DISTANCE                     0\n",
      "dtype: int64\n"
     ]
    }
   ],
   "source": [
    "print(df.isna().sum()) #looking at the number of NaN values in each column"
   ]
  },
  {
   "cell_type": "code",
   "execution_count": 240,
   "metadata": {},
   "outputs": [
    {
     "name": "stdout",
     "output_type": "stream",
     "text": [
      "<class 'pandas.core.frame.DataFrame'>\n",
      "RangeIndex: 583985 entries, 0 to 583984\n",
      "Data columns (total 21 columns):\n",
      "DAY_OF_MONTH             583985 non-null int64\n",
      "DAY_OF_WEEK              583985 non-null int64\n",
      "OP_UNIQUE_CARRIER        583985 non-null object\n",
      "OP_CARRIER_AIRLINE_ID    583985 non-null int64\n",
      "OP_CARRIER               583985 non-null object\n",
      "TAIL_NUM                 581442 non-null object\n",
      "OP_CARRIER_FL_NUM        583985 non-null int64\n",
      "ORIGIN_AIRPORT_ID        583985 non-null int64\n",
      "ORIGIN_AIRPORT_SEQ_ID    583985 non-null int64\n",
      "ORIGIN                   583985 non-null object\n",
      "DEST_AIRPORT_ID          583985 non-null int64\n",
      "DEST_AIRPORT_SEQ_ID      583985 non-null int64\n",
      "DEST                     583985 non-null object\n",
      "DEP_TIME                 567633 non-null float64\n",
      "DEP_DEL15                567630 non-null float64\n",
      "DEP_TIME_BLK             583985 non-null object\n",
      "ARR_TIME                 566924 non-null float64\n",
      "ARR_DEL15                565963 non-null float64\n",
      "CANCELLED                583985 non-null float64\n",
      "DIVERTED                 583985 non-null float64\n",
      "DISTANCE                 583985 non-null float64\n",
      "dtypes: float64(7), int64(8), object(6)\n",
      "memory usage: 93.6+ MB\n"
     ]
    }
   ],
   "source": [
    "df.info() #some general information about the types of each column"
   ]
  },
  {
   "cell_type": "markdown",
   "metadata": {},
   "source": [
    "To start with, we can get rid of columns that we aren't concerned with predicting. This would be flight cancellations and diversions."
   ]
  },
  {
   "cell_type": "code",
   "execution_count": 241,
   "metadata": {},
   "outputs": [],
   "source": [
    "df = df.drop(columns = ['CANCELLED', 'DIVERTED'])"
   ]
  },
  {
   "cell_type": "code",
   "execution_count": 242,
   "metadata": {},
   "outputs": [
    {
     "data": {
      "text/plain": [
       "DAY_OF_MONTH               31\n",
       "DAY_OF_WEEK                 7\n",
       "OP_UNIQUE_CARRIER          17\n",
       "OP_CARRIER_AIRLINE_ID      17\n",
       "OP_CARRIER                 17\n",
       "TAIL_NUM                 5446\n",
       "OP_CARRIER_FL_NUM        6839\n",
       "ORIGIN_AIRPORT_ID         346\n",
       "ORIGIN_AIRPORT_SEQ_ID     346\n",
       "ORIGIN                    346\n",
       "DEST_AIRPORT_ID           346\n",
       "DEST_AIRPORT_SEQ_ID       346\n",
       "DEST                      346\n",
       "DEP_TIME                 1438\n",
       "DEP_DEL15                   2\n",
       "DEP_TIME_BLK               19\n",
       "ARR_TIME                 1440\n",
       "ARR_DEL15                   2\n",
       "DISTANCE                 1451\n",
       "dtype: int64"
      ]
     },
     "execution_count": 242,
     "metadata": {},
     "output_type": "execute_result"
    }
   ],
   "source": [
    "df.nunique()"
   ]
  },
  {
   "cell_type": "markdown",
   "metadata": {},
   "source": [
    "The \"SEQ\" ID's seem to be repeats of the original ID's but with some extra values. For now we will drop those"
   ]
  },
  {
   "cell_type": "code",
   "execution_count": 243,
   "metadata": {},
   "outputs": [],
   "source": [
    "df = df.drop(columns = ['ORIGIN_AIRPORT_SEQ_ID', 'DEST_AIRPORT_SEQ_ID'])"
   ]
  },
  {
   "cell_type": "markdown",
   "metadata": {},
   "source": [
    "TAIL_NUM is not usable, so we'll drop this, as with the flight number"
   ]
  },
  {
   "cell_type": "code",
   "execution_count": 244,
   "metadata": {},
   "outputs": [],
   "source": [
    "df = df.drop(columns = ['TAIL_NUM', 'OP_CARRIER_FL_NUM'])"
   ]
  },
  {
   "cell_type": "markdown",
   "metadata": {},
   "source": [
    "We can now look more closely at each of the features we've held onto, starting with the month and week"
   ]
  },
  {
   "cell_type": "code",
   "execution_count": 245,
   "metadata": {},
   "outputs": [
    {
     "data": {
      "text/plain": [
       "DAY_OF_MONTH\n",
       "1     0.215423\n",
       "2     0.257957\n",
       "3     0.186185\n",
       "4     0.127087\n",
       "5     0.160788\n",
       "6     0.198471\n",
       "7     0.151579\n",
       "8     0.101620\n",
       "9     0.103387\n",
       "10    0.143248\n",
       "11    0.160589\n",
       "12    0.150572\n",
       "13    0.162158\n",
       "14    0.151467\n",
       "15    0.154934\n",
       "16    0.129132\n",
       "17    0.200223\n",
       "18    0.219003\n",
       "19    0.201091\n",
       "20    0.210049\n",
       "21    0.269010\n",
       "22    0.225870\n",
       "23    0.272890\n",
       "24    0.311952\n",
       "25    0.226672\n",
       "26    0.133417\n",
       "27    0.188134\n",
       "28    0.178465\n",
       "29    0.145864\n",
       "30    0.204032\n",
       "31    0.208535\n",
       "Name: ARR_DEL15, dtype: float64"
      ]
     },
     "execution_count": 245,
     "metadata": {},
     "output_type": "execute_result"
    }
   ],
   "source": [
    "df.groupby('DAY_OF_MONTH')['ARR_DEL15'].mean()"
   ]
  },
  {
   "cell_type": "markdown",
   "metadata": {},
   "source": [
    "I thought there might be a situation where there are more delays on January 1st, but this seems to not be true and no clear trends are present, likely because we are combining years. Day of week might be more helpful"
   ]
  },
  {
   "cell_type": "code",
   "execution_count": 246,
   "metadata": {},
   "outputs": [
    {
     "data": {
      "text/plain": [
       "DAY_OF_WEEK\n",
       "1    0.186837\n",
       "2    0.167916\n",
       "3    0.193716\n",
       "4    0.209893\n",
       "5    0.183462\n",
       "6    0.160310\n",
       "7    0.189246\n",
       "Name: ARR_DEL15, dtype: float64"
      ]
     },
     "execution_count": 246,
     "metadata": {},
     "output_type": "execute_result"
    }
   ],
   "source": [
    "df.groupby('DAY_OF_WEEK')['ARR_DEL15'].mean()"
   ]
  },
  {
   "cell_type": "markdown",
   "metadata": {},
   "source": [
    "Seems to be true that weekend flights have more delays so we'll create a new variable seeing if the flight was on a weekend day, which means Thursday, Friday, Saturday, or Sunday"
   ]
  },
  {
   "cell_type": "code",
   "execution_count": 123,
   "metadata": {},
   "outputs": [],
   "source": [
    "df['WEEKEND'] = np.where(df['DAY_OF_WEEK'] >= 4, 1, 0)"
   ]
  },
  {
   "cell_type": "markdown",
   "metadata": {},
   "source": [
    "Next, let's look at information about the carriers"
   ]
  },
  {
   "cell_type": "code",
   "execution_count": 124,
   "metadata": {},
   "outputs": [
    {
     "data": {
      "text/plain": [
       "OP_CARRIER\n",
       "9E    0.152609\n",
       "AA    0.166344\n",
       "AS    0.192720\n",
       "B6    0.210430\n",
       "DL    0.116493\n",
       "EV    0.204775\n",
       "F9    0.190671\n",
       "G4    0.227485\n",
       "HA    0.111522\n",
       "MQ    0.220905\n",
       "NK    0.145848\n",
       "OH    0.186357\n",
       "OO    0.188282\n",
       "UA    0.163482\n",
       "WN    0.122972\n",
       "YV    0.182086\n",
       "YX    0.174024\n",
       "Name: ARR_DEL15, dtype: float64"
      ]
     },
     "execution_count": 124,
     "metadata": {},
     "output_type": "execute_result"
    }
   ],
   "source": [
    "df.groupby('OP_CARRIER')['ARR_DEL15'].mean()"
   ]
  },
  {
   "cell_type": "markdown",
   "metadata": {},
   "source": [
    "It's difficult to number these but the carrier does seem to matter, so we'll turn it into a category type and drop the other carrier variables"
   ]
  },
  {
   "cell_type": "code",
   "execution_count": 125,
   "metadata": {},
   "outputs": [],
   "source": [
    "df['OP_CARRIER'] = df['OP_CARRIER'].astype('category')\n",
    "df = df.drop(columns = ['OP_UNIQUE_CARRIER', 'OP_CARRIER_AIRLINE_ID'])"
   ]
  },
  {
   "cell_type": "code",
   "execution_count": 126,
   "metadata": {},
   "outputs": [
    {
     "data": {
      "text/plain": [
       "DAY_OF_MONTH           31\n",
       "DAY_OF_WEEK             7\n",
       "OP_CARRIER             17\n",
       "ORIGIN_AIRPORT_ID     353\n",
       "ORIGIN                353\n",
       "DEST_AIRPORT_ID       353\n",
       "DEST                  353\n",
       "DEP_TIME             1440\n",
       "DEP_DEL15               2\n",
       "DEP_TIME_BLK           19\n",
       "ARR_TIME             1440\n",
       "ARR_DEL15               2\n",
       "DISTANCE             1512\n",
       "WEEKEND                 2\n",
       "dtype: int64"
      ]
     },
     "execution_count": 126,
     "metadata": {},
     "output_type": "execute_result"
    }
   ],
   "source": [
    "df.nunique()"
   ]
  },
  {
   "cell_type": "code",
   "execution_count": 127,
   "metadata": {},
   "outputs": [],
   "source": [
    "df_mean_bydest = df.groupby('DEST')['ARR_DEL15'].mean()\n",
    "df_count_bydest = df.groupby('DEST')['ARR_DEL15'].count()"
   ]
  },
  {
   "cell_type": "code",
   "execution_count": 128,
   "metadata": {},
   "outputs": [],
   "source": [
    "df_mean_bydest = pd.DataFrame(df_mean_bydest)\n",
    "df_count_bydest = pd.DataFrame(df_count_bydest)"
   ]
  },
  {
   "cell_type": "code",
   "execution_count": 129,
   "metadata": {},
   "outputs": [],
   "source": [
    "df_mean_bydest.columns = ['Mean_Delayed']\n",
    "df_count_bydest.columns = ['Count']"
   ]
  },
  {
   "cell_type": "code",
   "execution_count": 130,
   "metadata": {},
   "outputs": [],
   "source": [
    "df_bydest = df_mean_bydest.join(df_count_bydest)"
   ]
  },
  {
   "cell_type": "code",
   "execution_count": 131,
   "metadata": {},
   "outputs": [
    {
     "data": {
      "text/html": [
       "<div>\n",
       "<style scoped>\n",
       "    .dataframe tbody tr th:only-of-type {\n",
       "        vertical-align: middle;\n",
       "    }\n",
       "\n",
       "    .dataframe tbody tr th {\n",
       "        vertical-align: top;\n",
       "    }\n",
       "\n",
       "    .dataframe thead th {\n",
       "        text-align: right;\n",
       "    }\n",
       "</style>\n",
       "<table border=\"1\" class=\"dataframe\">\n",
       "  <thead>\n",
       "    <tr style=\"text-align: right;\">\n",
       "      <th></th>\n",
       "      <th>Mean_Delayed</th>\n",
       "      <th>Count</th>\n",
       "    </tr>\n",
       "    <tr>\n",
       "      <th>DEST</th>\n",
       "      <th></th>\n",
       "      <th></th>\n",
       "    </tr>\n",
       "  </thead>\n",
       "  <tbody>\n",
       "    <tr>\n",
       "      <td>MKG</td>\n",
       "      <td>0.353535</td>\n",
       "      <td>99</td>\n",
       "    </tr>\n",
       "    <tr>\n",
       "      <td>OGD</td>\n",
       "      <td>0.352941</td>\n",
       "      <td>17</td>\n",
       "    </tr>\n",
       "    <tr>\n",
       "      <td>ASE</td>\n",
       "      <td>0.343266</td>\n",
       "      <td>1678</td>\n",
       "    </tr>\n",
       "    <tr>\n",
       "      <td>RIW</td>\n",
       "      <td>0.340000</td>\n",
       "      <td>50</td>\n",
       "    </tr>\n",
       "    <tr>\n",
       "      <td>OGS</td>\n",
       "      <td>0.338983</td>\n",
       "      <td>59</td>\n",
       "    </tr>\n",
       "    <tr>\n",
       "      <td>...</td>\n",
       "      <td>...</td>\n",
       "      <td>...</td>\n",
       "    </tr>\n",
       "    <tr>\n",
       "      <td>ATY</td>\n",
       "      <td>0.053571</td>\n",
       "      <td>56</td>\n",
       "    </tr>\n",
       "    <tr>\n",
       "      <td>CPR</td>\n",
       "      <td>0.052326</td>\n",
       "      <td>172</td>\n",
       "    </tr>\n",
       "    <tr>\n",
       "      <td>BTM</td>\n",
       "      <td>0.051724</td>\n",
       "      <td>116</td>\n",
       "    </tr>\n",
       "    <tr>\n",
       "      <td>TWF</td>\n",
       "      <td>0.050847</td>\n",
       "      <td>177</td>\n",
       "    </tr>\n",
       "    <tr>\n",
       "      <td>LWS</td>\n",
       "      <td>0.047244</td>\n",
       "      <td>127</td>\n",
       "    </tr>\n",
       "  </tbody>\n",
       "</table>\n",
       "<p>353 rows × 2 columns</p>\n",
       "</div>"
      ],
      "text/plain": [
       "      Mean_Delayed  Count\n",
       "DEST                     \n",
       "MKG       0.353535     99\n",
       "OGD       0.352941     17\n",
       "ASE       0.343266   1678\n",
       "RIW       0.340000     50\n",
       "OGS       0.338983     59\n",
       "...            ...    ...\n",
       "ATY       0.053571     56\n",
       "CPR       0.052326    172\n",
       "BTM       0.051724    116\n",
       "TWF       0.050847    177\n",
       "LWS       0.047244    127\n",
       "\n",
       "[353 rows x 2 columns]"
      ]
     },
     "execution_count": 131,
     "metadata": {},
     "output_type": "execute_result"
    }
   ],
   "source": [
    "df_bydest.sort_values(by = 'Mean_Delayed', ascending = False)"
   ]
  },
  {
   "cell_type": "code",
   "execution_count": 132,
   "metadata": {},
   "outputs": [
    {
     "data": {
      "text/plain": [
       "(34, 2)"
      ]
     },
     "execution_count": 132,
     "metadata": {},
     "output_type": "execute_result"
    }
   ],
   "source": [
    "df_bydest[df_bydest['Mean_Delayed'] > 0.25].shape"
   ]
  },
  {
   "cell_type": "markdown",
   "metadata": {},
   "source": [
    "25% delayed seems like a natural breaking point so we'll create a new variables called DEST_DELAY_PRONE with a 1 for the destinations in this group"
   ]
  },
  {
   "cell_type": "code",
   "execution_count": 133,
   "metadata": {},
   "outputs": [],
   "source": [
    "dest_list = df_bydest[df_bydest['Mean_Delayed'] > 0.25].index"
   ]
  },
  {
   "cell_type": "code",
   "execution_count": 134,
   "metadata": {},
   "outputs": [],
   "source": [
    "dest_list = np.asarray(dest_list)\n",
    "df['DELAY_PRONE'] = df['DEST'].apply(lambda x: x in dest_list)\n",
    "df['DELAY_PRONE'] = df['DELAY_PRONE'].astype(int)"
   ]
  },
  {
   "cell_type": "code",
   "execution_count": 135,
   "metadata": {},
   "outputs": [
    {
     "data": {
      "text/plain": [
       "DAY_OF_MONTH           31\n",
       "DAY_OF_WEEK             7\n",
       "OP_CARRIER             17\n",
       "ORIGIN_AIRPORT_ID     353\n",
       "ORIGIN                353\n",
       "DEST_AIRPORT_ID       353\n",
       "DEST                  353\n",
       "DEP_TIME             1440\n",
       "DEP_DEL15               2\n",
       "DEP_TIME_BLK           19\n",
       "ARR_TIME             1440\n",
       "ARR_DEL15               2\n",
       "DISTANCE             1512\n",
       "WEEKEND                 2\n",
       "DELAY_PRONE             2\n",
       "dtype: int64"
      ]
     },
     "execution_count": 135,
     "metadata": {},
     "output_type": "execute_result"
    }
   ],
   "source": [
    "df.nunique()"
   ]
  },
  {
   "cell_type": "markdown",
   "metadata": {},
   "source": [
    "We can now get rid of the columns related to the destination airport"
   ]
  },
  {
   "cell_type": "code",
   "execution_count": 136,
   "metadata": {},
   "outputs": [
    {
     "data": {
      "text/plain": [
       "DAY_OF_MONTH           31\n",
       "DAY_OF_WEEK             7\n",
       "OP_CARRIER             17\n",
       "ORIGIN_AIRPORT_ID     353\n",
       "ORIGIN                353\n",
       "DEP_TIME             1440\n",
       "DEP_DEL15               2\n",
       "DEP_TIME_BLK           19\n",
       "ARR_TIME             1440\n",
       "ARR_DEL15               2\n",
       "DISTANCE             1512\n",
       "WEEKEND                 2\n",
       "DELAY_PRONE             2\n",
       "dtype: int64"
      ]
     },
     "execution_count": 136,
     "metadata": {},
     "output_type": "execute_result"
    }
   ],
   "source": [
    "df = df.drop(columns = ['DEST_AIRPORT_ID', 'DEST'])\n",
    "df.nunique()"
   ]
  },
  {
   "cell_type": "markdown",
   "metadata": {},
   "source": [
    "We can follow a similar process for the origin airport now."
   ]
  },
  {
   "cell_type": "code",
   "execution_count": 137,
   "metadata": {},
   "outputs": [],
   "source": [
    "df_mean_byorig = df.groupby('ORIGIN')['ARR_DEL15'].mean()\n",
    "df_count_byorig = df.groupby('ORIGIN')['ARR_DEL15'].count()"
   ]
  },
  {
   "cell_type": "code",
   "execution_count": 138,
   "metadata": {},
   "outputs": [],
   "source": [
    "df_mean_byorig = pd.DataFrame(df_mean_byorig)\n",
    "df_count_byorig = pd.DataFrame(df_count_byorig)"
   ]
  },
  {
   "cell_type": "code",
   "execution_count": 139,
   "metadata": {},
   "outputs": [],
   "source": [
    "df_mean_byorig.columns = ['Mean_Delayed']\n",
    "df_count_byorig.columns = ['Count']"
   ]
  },
  {
   "cell_type": "code",
   "execution_count": 140,
   "metadata": {},
   "outputs": [],
   "source": [
    "df_byorig = df_mean_byorig.join(df_count_byorig)"
   ]
  },
  {
   "cell_type": "code",
   "execution_count": 141,
   "metadata": {},
   "outputs": [
    {
     "data": {
      "text/html": [
       "<div>\n",
       "<style scoped>\n",
       "    .dataframe tbody tr th:only-of-type {\n",
       "        vertical-align: middle;\n",
       "    }\n",
       "\n",
       "    .dataframe tbody tr th {\n",
       "        vertical-align: top;\n",
       "    }\n",
       "\n",
       "    .dataframe thead th {\n",
       "        text-align: right;\n",
       "    }\n",
       "</style>\n",
       "<table border=\"1\" class=\"dataframe\">\n",
       "  <thead>\n",
       "    <tr style=\"text-align: right;\">\n",
       "      <th></th>\n",
       "      <th>Mean_Delayed</th>\n",
       "      <th>Count</th>\n",
       "    </tr>\n",
       "    <tr>\n",
       "      <th>ORIGIN</th>\n",
       "      <th></th>\n",
       "      <th></th>\n",
       "    </tr>\n",
       "  </thead>\n",
       "  <tbody>\n",
       "    <tr>\n",
       "      <td>SHR</td>\n",
       "      <td>0.486486</td>\n",
       "      <td>37</td>\n",
       "    </tr>\n",
       "    <tr>\n",
       "      <td>OGD</td>\n",
       "      <td>0.411765</td>\n",
       "      <td>17</td>\n",
       "    </tr>\n",
       "    <tr>\n",
       "      <td>PSM</td>\n",
       "      <td>0.372549</td>\n",
       "      <td>51</td>\n",
       "    </tr>\n",
       "    <tr>\n",
       "      <td>HGR</td>\n",
       "      <td>0.363636</td>\n",
       "      <td>22</td>\n",
       "    </tr>\n",
       "    <tr>\n",
       "      <td>ASE</td>\n",
       "      <td>0.359069</td>\n",
       "      <td>1632</td>\n",
       "    </tr>\n",
       "    <tr>\n",
       "      <td>...</td>\n",
       "      <td>...</td>\n",
       "      <td>...</td>\n",
       "    </tr>\n",
       "    <tr>\n",
       "      <td>ITO</td>\n",
       "      <td>0.060217</td>\n",
       "      <td>1013</td>\n",
       "    </tr>\n",
       "    <tr>\n",
       "      <td>PIR</td>\n",
       "      <td>0.053571</td>\n",
       "      <td>56</td>\n",
       "    </tr>\n",
       "    <tr>\n",
       "      <td>BTM</td>\n",
       "      <td>0.051724</td>\n",
       "      <td>116</td>\n",
       "    </tr>\n",
       "    <tr>\n",
       "      <td>LWS</td>\n",
       "      <td>0.031250</td>\n",
       "      <td>128</td>\n",
       "    </tr>\n",
       "    <tr>\n",
       "      <td>CPR</td>\n",
       "      <td>0.028902</td>\n",
       "      <td>173</td>\n",
       "    </tr>\n",
       "  </tbody>\n",
       "</table>\n",
       "<p>353 rows × 2 columns</p>\n",
       "</div>"
      ],
      "text/plain": [
       "        Mean_Delayed  Count\n",
       "ORIGIN                     \n",
       "SHR         0.486486     37\n",
       "OGD         0.411765     17\n",
       "PSM         0.372549     51\n",
       "HGR         0.363636     22\n",
       "ASE         0.359069   1632\n",
       "...              ...    ...\n",
       "ITO         0.060217   1013\n",
       "PIR         0.053571     56\n",
       "BTM         0.051724    116\n",
       "LWS         0.031250    128\n",
       "CPR         0.028902    173\n",
       "\n",
       "[353 rows x 2 columns]"
      ]
     },
     "execution_count": 141,
     "metadata": {},
     "output_type": "execute_result"
    }
   ],
   "source": [
    "df_byorig.sort_values(by = 'Mean_Delayed', ascending = False)"
   ]
  },
  {
   "cell_type": "code",
   "execution_count": 142,
   "metadata": {},
   "outputs": [
    {
     "data": {
      "text/plain": [
       "(39, 2)"
      ]
     },
     "execution_count": 142,
     "metadata": {},
     "output_type": "execute_result"
    }
   ],
   "source": [
    "df_byorig[df_byorig['Mean_Delayed'] > 0.25].shape"
   ]
  },
  {
   "cell_type": "code",
   "execution_count": 143,
   "metadata": {},
   "outputs": [],
   "source": [
    "orig_list = df_byorig[df_byorig['Mean_Delayed'] > 0.25].index\n",
    "orig_list = np.asarray(orig_list)\n",
    "df['DELAY_PRONE_ORIG'] = df['ORIGIN'].apply(lambda x: x in orig_list)\n",
    "df['DELAY_PRONE_ORIG'] = df['DELAY_PRONE_ORIG'].astype(int)"
   ]
  },
  {
   "cell_type": "code",
   "execution_count": 144,
   "metadata": {},
   "outputs": [
    {
     "data": {
      "text/plain": [
       "DAY_OF_MONTH           31\n",
       "DAY_OF_WEEK             7\n",
       "OP_CARRIER             17\n",
       "ORIGIN_AIRPORT_ID     353\n",
       "ORIGIN                353\n",
       "DEP_TIME             1440\n",
       "DEP_DEL15               2\n",
       "DEP_TIME_BLK           19\n",
       "ARR_TIME             1440\n",
       "ARR_DEL15               2\n",
       "DISTANCE             1512\n",
       "WEEKEND                 2\n",
       "DELAY_PRONE             2\n",
       "DELAY_PRONE_ORIG        2\n",
       "dtype: int64"
      ]
     },
     "execution_count": 144,
     "metadata": {},
     "output_type": "execute_result"
    }
   ],
   "source": [
    "df.nunique()"
   ]
  },
  {
   "cell_type": "markdown",
   "metadata": {},
   "source": [
    "Once again can now get rid of the other origin related variables"
   ]
  },
  {
   "cell_type": "code",
   "execution_count": 145,
   "metadata": {},
   "outputs": [],
   "source": [
    "df = df.drop(columns = ['ORIGIN_AIRPORT_ID', 'ORIGIN'])"
   ]
  },
  {
   "cell_type": "code",
   "execution_count": 146,
   "metadata": {},
   "outputs": [
    {
     "data": {
      "text/plain": [
       "DAY_OF_MONTH          31\n",
       "DAY_OF_WEEK            7\n",
       "OP_CARRIER            17\n",
       "DEP_TIME            1440\n",
       "DEP_DEL15              2\n",
       "DEP_TIME_BLK          19\n",
       "ARR_TIME            1440\n",
       "ARR_DEL15              2\n",
       "DISTANCE            1512\n",
       "WEEKEND                2\n",
       "DELAY_PRONE            2\n",
       "DELAY_PRONE_ORIG       2\n",
       "dtype: int64"
      ]
     },
     "execution_count": 146,
     "metadata": {},
     "output_type": "execute_result"
    }
   ],
   "source": [
    "df.nunique()"
   ]
  },
  {
   "cell_type": "markdown",
   "metadata": {},
   "source": [
    "Let's look at distance now. My intuition is that the longer the flight, the more likely the flight is to arrive delayed."
   ]
  },
  {
   "cell_type": "code",
   "execution_count": 152,
   "metadata": {},
   "outputs": [
    {
     "data": {
      "text/plain": [
       "0.006920237443392367"
      ]
     },
     "execution_count": 152,
     "metadata": {},
     "output_type": "execute_result"
    }
   ],
   "source": [
    "df['ARR_DEL15'].corr(df['DISTANCE'])"
   ]
  },
  {
   "cell_type": "markdown",
   "metadata": {},
   "source": [
    "Correlation is lower than expected but we'll leave the column as is for now. Next let's look at the departure time block."
   ]
  },
  {
   "cell_type": "code",
   "execution_count": 154,
   "metadata": {},
   "outputs": [
    {
     "data": {
      "text/plain": [
       "DEP_TIME_BLK\n",
       "0001-0559    0.104384\n",
       "0600-0659    0.098793\n",
       "0700-0759    0.115250\n",
       "0800-0859    0.130838\n",
       "0900-0959    0.134258\n",
       "1000-1059    0.152312\n",
       "1100-1159    0.152182\n",
       "1200-1259    0.160066\n",
       "1300-1359    0.166544\n",
       "1400-1459    0.180077\n",
       "1500-1559    0.180803\n",
       "1600-1659    0.190362\n",
       "1700-1759    0.197569\n",
       "1800-1859    0.206462\n",
       "1900-1959    0.199627\n",
       "2000-2059    0.197690\n",
       "2100-2159    0.179697\n",
       "2200-2259    0.160995\n",
       "2300-2359    0.148177\n",
       "Name: ARR_DEL15, dtype: float64"
      ]
     },
     "execution_count": 154,
     "metadata": {},
     "output_type": "execute_result"
    }
   ],
   "source": [
    "df.groupby('DEP_TIME_BLK')['ARR_DEL15'].mean()"
   ]
  },
  {
   "cell_type": "markdown",
   "metadata": {},
   "source": [
    "We want to have a similar variable, ARR_TIME_BLK for the arrival times, so let's create this here"
   ]
  },
  {
   "cell_type": "code",
   "execution_count": 156,
   "metadata": {},
   "outputs": [],
   "source": [
    "def timeToBlock(t): #function taken from notebook seen on kaggle \n",
    "    block=\"NaN\"\n",
    "    if(t> 0 and t< 600): block=\"0001-0559\"\n",
    "    if(t>559 and t< 700): block= \"0600-0659\"\n",
    "    if(t>659 and t< 800): block= \"0700-0759\"\n",
    "    if(t>759 and t< 900): block= \"0800-0859\"\n",
    "    if(t>859 and t< 1000): block= \"0900-0959\"\n",
    "    if(t>959 and t< 1100): block= \"1000-1059\"\n",
    "    if(t>1059 and t< 1200): block= \"1100-1159\"\n",
    "    if(t>1159 and t< 1300): block= \"1200-1259\"\n",
    "    if(t>1259 and t< 1400): block= \"1300-1359\"\n",
    "    if(t>1359 and t< 1500): block= \"1400-1459\"\n",
    "    if(t>1459 and t< 1600): block= \"1500-1559\"\n",
    "    if(t>1559 and t< 1700): block= \"1600-1659\"\n",
    "    if(t>1659 and t< 1800): block=\"1700-1759\"\n",
    "    if(t>1759 and t< 1900): block= \"1800-1859\"\n",
    "    if(t>1859 and t< 2000): block= \"1900-1959\"\n",
    "    if(t>1959 and t< 2100): block= \"2000-2059\"\n",
    "    if(t>2059 and t< 2200): block= \"2100-2159\"\n",
    "    if(t>2159 and t< 2300): block= \"2200-2259\"\n",
    "    if(t>2259 and t< 2400): block=\"2300-2359\"\n",
    "    return block"
   ]
  },
  {
   "cell_type": "code",
   "execution_count": 157,
   "metadata": {},
   "outputs": [],
   "source": [
    "df['ARR_TIME_BLK']=df['ARR_TIME'].apply(timeToBlock)"
   ]
  },
  {
   "cell_type": "code",
   "execution_count": 158,
   "metadata": {},
   "outputs": [
    {
     "data": {
      "text/plain": [
       "ARR_TIME_BLK\n",
       "0001-0559    0.392467\n",
       "0600-0659    0.062625\n",
       "0700-0759    0.048975\n",
       "0800-0859    0.067707\n",
       "0900-0959    0.094912\n",
       "1000-1059    0.112623\n",
       "1100-1159    0.124808\n",
       "1200-1259    0.134370\n",
       "1300-1359    0.133826\n",
       "1400-1459    0.152402\n",
       "1500-1559    0.150482\n",
       "1600-1659    0.157231\n",
       "1700-1759    0.182098\n",
       "1800-1859    0.183441\n",
       "1900-1959    0.196598\n",
       "2000-2059    0.195241\n",
       "2100-2159    0.203641\n",
       "2200-2259    0.232466\n",
       "2300-2359    0.228357\n",
       "Nan          0.306368\n",
       "Name: ARR_DEL15, dtype: float64"
      ]
     },
     "execution_count": 158,
     "metadata": {},
     "output_type": "execute_result"
    }
   ],
   "source": [
    "df.groupby('ARR_TIME_BLK')['ARR_DEL15'].mean()"
   ]
  },
  {
   "cell_type": "markdown",
   "metadata": {},
   "source": [
    "Although departure time seems to play a slight role, it is far omore pronounced in the arrival time block."
   ]
  },
  {
   "cell_type": "code",
   "execution_count": 159,
   "metadata": {},
   "outputs": [
    {
     "data": {
      "text/plain": [
       "DAY_OF_MONTH          31\n",
       "DAY_OF_WEEK            7\n",
       "OP_CARRIER            17\n",
       "DEP_TIME            1440\n",
       "DEP_DEL15              2\n",
       "DEP_TIME_BLK          19\n",
       "ARR_TIME            1440\n",
       "ARR_DEL15              2\n",
       "DISTANCE            1512\n",
       "WEEKEND                2\n",
       "DELAY_PRONE            2\n",
       "DELAY_PRONE_ORIG       2\n",
       "ARR_TIME_BLK          20\n",
       "dtype: int64"
      ]
     },
     "execution_count": 159,
     "metadata": {},
     "output_type": "execute_result"
    }
   ],
   "source": [
    "df.nunique()"
   ]
  },
  {
   "cell_type": "code",
   "execution_count": 161,
   "metadata": {},
   "outputs": [
    {
     "ename": "KeyError",
     "evalue": "\"['DEP_TIME' 'DEP_DEL15' 'ARR_TIME' 'DAY_OF_MONTH' 'DAY_OF_WEEK'] not found in axis\"",
     "output_type": "error",
     "traceback": [
      "\u001b[0;31m---------------------------------------------------------------------------\u001b[0m",
      "\u001b[0;31mKeyError\u001b[0m                                  Traceback (most recent call last)",
      "\u001b[0;32m<ipython-input-161-04012e06364e>\u001b[0m in \u001b[0;36m<module>\u001b[0;34m\u001b[0m\n\u001b[0;32m----> 1\u001b[0;31m \u001b[0mdf\u001b[0m \u001b[0;34m=\u001b[0m \u001b[0mdf\u001b[0m\u001b[0;34m.\u001b[0m\u001b[0mdrop\u001b[0m\u001b[0;34m(\u001b[0m\u001b[0mcolumns\u001b[0m \u001b[0;34m=\u001b[0m \u001b[0;34m[\u001b[0m\u001b[0;34m'DEP_TIME'\u001b[0m\u001b[0;34m,\u001b[0m \u001b[0;34m'DEP_DEL15'\u001b[0m\u001b[0;34m,\u001b[0m \u001b[0;34m'ARR_TIME'\u001b[0m\u001b[0;34m,\u001b[0m \u001b[0;34m'DAY_OF_MONTH'\u001b[0m\u001b[0;34m,\u001b[0m \u001b[0;34m'DAY_OF_WEEK'\u001b[0m\u001b[0;34m]\u001b[0m\u001b[0;34m)\u001b[0m\u001b[0;34m\u001b[0m\u001b[0;34m\u001b[0m\u001b[0m\n\u001b[0m\u001b[1;32m      2\u001b[0m \u001b[0mdf\u001b[0m\u001b[0;34m.\u001b[0m\u001b[0mnunique\u001b[0m\u001b[0;34m(\u001b[0m\u001b[0;34m)\u001b[0m\u001b[0;34m\u001b[0m\u001b[0;34m\u001b[0m\u001b[0m\n",
      "\u001b[0;32m~/opt/anaconda3/lib/python3.7/site-packages/pandas/core/frame.py\u001b[0m in \u001b[0;36mdrop\u001b[0;34m(self, labels, axis, index, columns, level, inplace, errors)\u001b[0m\n\u001b[1;32m   4100\u001b[0m             \u001b[0mlevel\u001b[0m\u001b[0;34m=\u001b[0m\u001b[0mlevel\u001b[0m\u001b[0;34m,\u001b[0m\u001b[0;34m\u001b[0m\u001b[0;34m\u001b[0m\u001b[0m\n\u001b[1;32m   4101\u001b[0m             \u001b[0minplace\u001b[0m\u001b[0;34m=\u001b[0m\u001b[0minplace\u001b[0m\u001b[0;34m,\u001b[0m\u001b[0;34m\u001b[0m\u001b[0;34m\u001b[0m\u001b[0m\n\u001b[0;32m-> 4102\u001b[0;31m             \u001b[0merrors\u001b[0m\u001b[0;34m=\u001b[0m\u001b[0merrors\u001b[0m\u001b[0;34m,\u001b[0m\u001b[0;34m\u001b[0m\u001b[0;34m\u001b[0m\u001b[0m\n\u001b[0m\u001b[1;32m   4103\u001b[0m         )\n\u001b[1;32m   4104\u001b[0m \u001b[0;34m\u001b[0m\u001b[0m\n",
      "\u001b[0;32m~/opt/anaconda3/lib/python3.7/site-packages/pandas/core/generic.py\u001b[0m in \u001b[0;36mdrop\u001b[0;34m(self, labels, axis, index, columns, level, inplace, errors)\u001b[0m\n\u001b[1;32m   3912\u001b[0m         \u001b[0;32mfor\u001b[0m \u001b[0maxis\u001b[0m\u001b[0;34m,\u001b[0m \u001b[0mlabels\u001b[0m \u001b[0;32min\u001b[0m \u001b[0maxes\u001b[0m\u001b[0;34m.\u001b[0m\u001b[0mitems\u001b[0m\u001b[0;34m(\u001b[0m\u001b[0;34m)\u001b[0m\u001b[0;34m:\u001b[0m\u001b[0;34m\u001b[0m\u001b[0;34m\u001b[0m\u001b[0m\n\u001b[1;32m   3913\u001b[0m             \u001b[0;32mif\u001b[0m \u001b[0mlabels\u001b[0m \u001b[0;32mis\u001b[0m \u001b[0;32mnot\u001b[0m \u001b[0;32mNone\u001b[0m\u001b[0;34m:\u001b[0m\u001b[0;34m\u001b[0m\u001b[0;34m\u001b[0m\u001b[0m\n\u001b[0;32m-> 3914\u001b[0;31m                 \u001b[0mobj\u001b[0m \u001b[0;34m=\u001b[0m \u001b[0mobj\u001b[0m\u001b[0;34m.\u001b[0m\u001b[0m_drop_axis\u001b[0m\u001b[0;34m(\u001b[0m\u001b[0mlabels\u001b[0m\u001b[0;34m,\u001b[0m \u001b[0maxis\u001b[0m\u001b[0;34m,\u001b[0m \u001b[0mlevel\u001b[0m\u001b[0;34m=\u001b[0m\u001b[0mlevel\u001b[0m\u001b[0;34m,\u001b[0m \u001b[0merrors\u001b[0m\u001b[0;34m=\u001b[0m\u001b[0merrors\u001b[0m\u001b[0;34m)\u001b[0m\u001b[0;34m\u001b[0m\u001b[0;34m\u001b[0m\u001b[0m\n\u001b[0m\u001b[1;32m   3915\u001b[0m \u001b[0;34m\u001b[0m\u001b[0m\n\u001b[1;32m   3916\u001b[0m         \u001b[0;32mif\u001b[0m \u001b[0minplace\u001b[0m\u001b[0;34m:\u001b[0m\u001b[0;34m\u001b[0m\u001b[0;34m\u001b[0m\u001b[0m\n",
      "\u001b[0;32m~/opt/anaconda3/lib/python3.7/site-packages/pandas/core/generic.py\u001b[0m in \u001b[0;36m_drop_axis\u001b[0;34m(self, labels, axis, level, errors)\u001b[0m\n\u001b[1;32m   3944\u001b[0m                 \u001b[0mnew_axis\u001b[0m \u001b[0;34m=\u001b[0m \u001b[0maxis\u001b[0m\u001b[0;34m.\u001b[0m\u001b[0mdrop\u001b[0m\u001b[0;34m(\u001b[0m\u001b[0mlabels\u001b[0m\u001b[0;34m,\u001b[0m \u001b[0mlevel\u001b[0m\u001b[0;34m=\u001b[0m\u001b[0mlevel\u001b[0m\u001b[0;34m,\u001b[0m \u001b[0merrors\u001b[0m\u001b[0;34m=\u001b[0m\u001b[0merrors\u001b[0m\u001b[0;34m)\u001b[0m\u001b[0;34m\u001b[0m\u001b[0;34m\u001b[0m\u001b[0m\n\u001b[1;32m   3945\u001b[0m             \u001b[0;32melse\u001b[0m\u001b[0;34m:\u001b[0m\u001b[0;34m\u001b[0m\u001b[0;34m\u001b[0m\u001b[0m\n\u001b[0;32m-> 3946\u001b[0;31m                 \u001b[0mnew_axis\u001b[0m \u001b[0;34m=\u001b[0m \u001b[0maxis\u001b[0m\u001b[0;34m.\u001b[0m\u001b[0mdrop\u001b[0m\u001b[0;34m(\u001b[0m\u001b[0mlabels\u001b[0m\u001b[0;34m,\u001b[0m \u001b[0merrors\u001b[0m\u001b[0;34m=\u001b[0m\u001b[0merrors\u001b[0m\u001b[0;34m)\u001b[0m\u001b[0;34m\u001b[0m\u001b[0;34m\u001b[0m\u001b[0m\n\u001b[0m\u001b[1;32m   3947\u001b[0m             \u001b[0mresult\u001b[0m \u001b[0;34m=\u001b[0m \u001b[0mself\u001b[0m\u001b[0;34m.\u001b[0m\u001b[0mreindex\u001b[0m\u001b[0;34m(\u001b[0m\u001b[0;34m**\u001b[0m\u001b[0;34m{\u001b[0m\u001b[0maxis_name\u001b[0m\u001b[0;34m:\u001b[0m \u001b[0mnew_axis\u001b[0m\u001b[0;34m}\u001b[0m\u001b[0;34m)\u001b[0m\u001b[0;34m\u001b[0m\u001b[0;34m\u001b[0m\u001b[0m\n\u001b[1;32m   3948\u001b[0m \u001b[0;34m\u001b[0m\u001b[0m\n",
      "\u001b[0;32m~/opt/anaconda3/lib/python3.7/site-packages/pandas/core/indexes/base.py\u001b[0m in \u001b[0;36mdrop\u001b[0;34m(self, labels, errors)\u001b[0m\n\u001b[1;32m   5338\u001b[0m         \u001b[0;32mif\u001b[0m \u001b[0mmask\u001b[0m\u001b[0;34m.\u001b[0m\u001b[0many\u001b[0m\u001b[0;34m(\u001b[0m\u001b[0;34m)\u001b[0m\u001b[0;34m:\u001b[0m\u001b[0;34m\u001b[0m\u001b[0;34m\u001b[0m\u001b[0m\n\u001b[1;32m   5339\u001b[0m             \u001b[0;32mif\u001b[0m \u001b[0merrors\u001b[0m \u001b[0;34m!=\u001b[0m \u001b[0;34m\"ignore\"\u001b[0m\u001b[0;34m:\u001b[0m\u001b[0;34m\u001b[0m\u001b[0;34m\u001b[0m\u001b[0m\n\u001b[0;32m-> 5340\u001b[0;31m                 \u001b[0;32mraise\u001b[0m \u001b[0mKeyError\u001b[0m\u001b[0;34m(\u001b[0m\u001b[0;34m\"{} not found in axis\"\u001b[0m\u001b[0;34m.\u001b[0m\u001b[0mformat\u001b[0m\u001b[0;34m(\u001b[0m\u001b[0mlabels\u001b[0m\u001b[0;34m[\u001b[0m\u001b[0mmask\u001b[0m\u001b[0;34m]\u001b[0m\u001b[0;34m)\u001b[0m\u001b[0;34m)\u001b[0m\u001b[0;34m\u001b[0m\u001b[0;34m\u001b[0m\u001b[0m\n\u001b[0m\u001b[1;32m   5341\u001b[0m             \u001b[0mindexer\u001b[0m \u001b[0;34m=\u001b[0m \u001b[0mindexer\u001b[0m\u001b[0;34m[\u001b[0m\u001b[0;34m~\u001b[0m\u001b[0mmask\u001b[0m\u001b[0;34m]\u001b[0m\u001b[0;34m\u001b[0m\u001b[0;34m\u001b[0m\u001b[0m\n\u001b[1;32m   5342\u001b[0m         \u001b[0;32mreturn\u001b[0m \u001b[0mself\u001b[0m\u001b[0;34m.\u001b[0m\u001b[0mdelete\u001b[0m\u001b[0;34m(\u001b[0m\u001b[0mindexer\u001b[0m\u001b[0;34m)\u001b[0m\u001b[0;34m\u001b[0m\u001b[0;34m\u001b[0m\u001b[0m\n",
      "\u001b[0;31mKeyError\u001b[0m: \"['DEP_TIME' 'DEP_DEL15' 'ARR_TIME' 'DAY_OF_MONTH' 'DAY_OF_WEEK'] not found in axis\""
     ]
    }
   ],
   "source": [
    "df = df.drop(columns = ['DEP_TIME', 'DEP_DEL15', 'ARR_TIME', 'DAY_OF_MONTH', 'DAY_OF_WEEK'])\n",
    "df.nunique()"
   ]
  },
  {
   "cell_type": "code",
   "execution_count": 163,
   "metadata": {},
   "outputs": [
    {
     "data": {
      "text/plain": [
       "ARR_TIME_BLK\n",
       "0001-0559    0.392467\n",
       "0600-0659    0.062625\n",
       "0700-0759    0.048975\n",
       "0800-0859    0.067707\n",
       "0900-0959    0.094912\n",
       "1000-1059    0.112623\n",
       "1100-1159    0.124808\n",
       "1200-1259    0.134370\n",
       "1300-1359    0.133826\n",
       "1400-1459    0.152402\n",
       "1500-1559    0.150482\n",
       "1600-1659    0.157231\n",
       "1700-1759    0.182098\n",
       "1800-1859    0.183441\n",
       "1900-1959    0.196598\n",
       "2000-2059    0.195241\n",
       "2100-2159    0.203641\n",
       "2200-2259    0.232466\n",
       "2300-2359    0.228357\n",
       "Nan          0.306368\n",
       "Name: ARR_DEL15, dtype: float64"
      ]
     },
     "execution_count": 163,
     "metadata": {},
     "output_type": "execute_result"
    }
   ],
   "source": [
    "df.groupby('ARR_TIME_BLK')['ARR_DEL15'].mean()"
   ]
  },
  {
   "cell_type": "markdown",
   "metadata": {},
   "source": [
    "Since we will need to one hot encode the time blocks, I want to try and reduce the number of categories. For arrival time block, I will use \"Early morning\", \"daytime\", \"night\". But first, we haven't dropped NaN columns yet so let's do that here."
   ]
  },
  {
   "cell_type": "code",
   "execution_count": 164,
   "metadata": {},
   "outputs": [
    {
     "name": "stdout",
     "output_type": "stream",
     "text": [
      "(1191331, 8)\n",
      "(1165231, 8)\n"
     ]
    }
   ],
   "source": [
    "print(df.shape)\n",
    "df = df.dropna()\n",
    "print(df.shape)"
   ]
  },
  {
   "cell_type": "code",
   "execution_count": 166,
   "metadata": {},
   "outputs": [],
   "source": [
    "def blockToCategory(t): #function taken from notebook seen on kaggle \n",
    "    block=\"NaN\"\n",
    "    if(t == \"0001-0559\"): block=\"early morning\"\n",
    "    if(t == \"0600-0659\" or t == \"0700-0759\" or t == \"0800-0859\" or t == \"0900-0959\" or t ==  \"1000-1059\" or t == \"1100-1159\"):block=\"morning\"\n",
    "    if(t == \"1200-1259\" or t == \"1300-1359\" or t ==  \"1400-1459\" or t == \"1500-1559\" or t == \"1600-1659\"):block=\"afternoon\"\n",
    "    if(t== \"1700-1759\" or t == \"1800-1859\" or t == \"1900-1959\" or t == \"2000-2059\"):block = \"early evening\"\n",
    "    if(t == \"2100-2159\" or t == \"2200-2259\" or t == \"2300-2359\"):block = \"late evening\"\n",
    "    return block"
   ]
  },
  {
   "cell_type": "code",
   "execution_count": 167,
   "metadata": {},
   "outputs": [
    {
     "name": "stderr",
     "output_type": "stream",
     "text": [
      "/Users/dshenker/opt/anaconda3/lib/python3.7/site-packages/ipykernel_launcher.py:1: SettingWithCopyWarning: \n",
      "A value is trying to be set on a copy of a slice from a DataFrame.\n",
      "Try using .loc[row_indexer,col_indexer] = value instead\n",
      "\n",
      "See the caveats in the documentation: http://pandas.pydata.org/pandas-docs/stable/user_guide/indexing.html#returning-a-view-versus-a-copy\n",
      "  \"\"\"Entry point for launching an IPython kernel.\n"
     ]
    }
   ],
   "source": [
    "df['ARR_TIME_CAT']=df['ARR_TIME_BLK'].apply(blockToCategory)"
   ]
  },
  {
   "cell_type": "code",
   "execution_count": 172,
   "metadata": {},
   "outputs": [
    {
     "data": {
      "text/html": [
       "<div>\n",
       "<style scoped>\n",
       "    .dataframe tbody tr th:only-of-type {\n",
       "        vertical-align: middle;\n",
       "    }\n",
       "\n",
       "    .dataframe tbody tr th {\n",
       "        vertical-align: top;\n",
       "    }\n",
       "\n",
       "    .dataframe thead th {\n",
       "        text-align: right;\n",
       "    }\n",
       "</style>\n",
       "<table border=\"1\" class=\"dataframe\">\n",
       "  <thead>\n",
       "    <tr style=\"text-align: right;\">\n",
       "      <th></th>\n",
       "      <th>OP_CARRIER</th>\n",
       "      <th>DEP_TIME_BLK</th>\n",
       "      <th>ARR_DEL15</th>\n",
       "      <th>DISTANCE</th>\n",
       "      <th>WEEKEND</th>\n",
       "      <th>DELAY_PRONE</th>\n",
       "      <th>DELAY_PRONE_ORIG</th>\n",
       "      <th>ARR_TIME_BLK</th>\n",
       "      <th>ARR_TIME_CAT</th>\n",
       "      <th>DEP_TIME_CAT</th>\n",
       "    </tr>\n",
       "  </thead>\n",
       "  <tbody>\n",
       "    <tr>\n",
       "      <td>0</td>\n",
       "      <td>9E</td>\n",
       "      <td>0600-0659</td>\n",
       "      <td>0.0</td>\n",
       "      <td>300.0</td>\n",
       "      <td>0</td>\n",
       "      <td>0</td>\n",
       "      <td>0</td>\n",
       "      <td>0700-0759</td>\n",
       "      <td>morning</td>\n",
       "      <td>morning</td>\n",
       "    </tr>\n",
       "    <tr>\n",
       "      <td>1</td>\n",
       "      <td>9E</td>\n",
       "      <td>1400-1459</td>\n",
       "      <td>0.0</td>\n",
       "      <td>596.0</td>\n",
       "      <td>0</td>\n",
       "      <td>0</td>\n",
       "      <td>0</td>\n",
       "      <td>1600-1659</td>\n",
       "      <td>afternoon</td>\n",
       "      <td>afternoon</td>\n",
       "    </tr>\n",
       "    <tr>\n",
       "      <td>2</td>\n",
       "      <td>9E</td>\n",
       "      <td>1200-1259</td>\n",
       "      <td>0.0</td>\n",
       "      <td>229.0</td>\n",
       "      <td>0</td>\n",
       "      <td>0</td>\n",
       "      <td>0</td>\n",
       "      <td>1300-1359</td>\n",
       "      <td>afternoon</td>\n",
       "      <td>afternoon</td>\n",
       "    </tr>\n",
       "    <tr>\n",
       "      <td>3</td>\n",
       "      <td>9E</td>\n",
       "      <td>1500-1559</td>\n",
       "      <td>0.0</td>\n",
       "      <td>223.0</td>\n",
       "      <td>0</td>\n",
       "      <td>0</td>\n",
       "      <td>0</td>\n",
       "      <td>1600-1659</td>\n",
       "      <td>afternoon</td>\n",
       "      <td>afternoon</td>\n",
       "    </tr>\n",
       "    <tr>\n",
       "      <td>4</td>\n",
       "      <td>9E</td>\n",
       "      <td>1900-1959</td>\n",
       "      <td>0.0</td>\n",
       "      <td>579.0</td>\n",
       "      <td>0</td>\n",
       "      <td>0</td>\n",
       "      <td>0</td>\n",
       "      <td>1900-1959</td>\n",
       "      <td>early evening</td>\n",
       "      <td>early evening</td>\n",
       "    </tr>\n",
       "  </tbody>\n",
       "</table>\n",
       "</div>"
      ],
      "text/plain": [
       "  OP_CARRIER DEP_TIME_BLK  ARR_DEL15  DISTANCE  WEEKEND  DELAY_PRONE  \\\n",
       "0         9E    0600-0659        0.0     300.0        0            0   \n",
       "1         9E    1400-1459        0.0     596.0        0            0   \n",
       "2         9E    1200-1259        0.0     229.0        0            0   \n",
       "3         9E    1500-1559        0.0     223.0        0            0   \n",
       "4         9E    1900-1959        0.0     579.0        0            0   \n",
       "\n",
       "   DELAY_PRONE_ORIG ARR_TIME_BLK   ARR_TIME_CAT   DEP_TIME_CAT  \n",
       "0                 0    0700-0759        morning        morning  \n",
       "1                 0    1600-1659      afternoon      afternoon  \n",
       "2                 0    1300-1359      afternoon      afternoon  \n",
       "3                 0    1600-1659      afternoon      afternoon  \n",
       "4                 0    1900-1959  early evening  early evening  "
      ]
     },
     "execution_count": 172,
     "metadata": {},
     "output_type": "execute_result"
    }
   ],
   "source": [
    "df.head()"
   ]
  },
  {
   "cell_type": "code",
   "execution_count": 171,
   "metadata": {},
   "outputs": [
    {
     "name": "stderr",
     "output_type": "stream",
     "text": [
      "/Users/dshenker/opt/anaconda3/lib/python3.7/site-packages/ipykernel_launcher.py:1: SettingWithCopyWarning: \n",
      "A value is trying to be set on a copy of a slice from a DataFrame.\n",
      "Try using .loc[row_indexer,col_indexer] = value instead\n",
      "\n",
      "See the caveats in the documentation: http://pandas.pydata.org/pandas-docs/stable/user_guide/indexing.html#returning-a-view-versus-a-copy\n",
      "  \"\"\"Entry point for launching an IPython kernel.\n"
     ]
    }
   ],
   "source": [
    "df['DEP_TIME_CAT'] = df['DEP_TIME_BLK'].apply(blockToCategory)"
   ]
  },
  {
   "cell_type": "code",
   "execution_count": 175,
   "metadata": {},
   "outputs": [
    {
     "data": {
      "text/plain": [
       "OP_CARRIER            17\n",
       "ARR_DEL15              2\n",
       "DISTANCE            1511\n",
       "WEEKEND                2\n",
       "DELAY_PRONE            2\n",
       "DELAY_PRONE_ORIG       2\n",
       "ARR_TIME_CAT           6\n",
       "DEP_TIME_CAT           5\n",
       "dtype: int64"
      ]
     },
     "execution_count": 175,
     "metadata": {},
     "output_type": "execute_result"
    }
   ],
   "source": [
    "df.nunique()"
   ]
  },
  {
   "cell_type": "code",
   "execution_count": 174,
   "metadata": {},
   "outputs": [],
   "source": [
    "df = df.drop(columns = ['DEP_TIME_BLK', 'ARR_TIME_BLK'])"
   ]
  },
  {
   "cell_type": "markdown",
   "metadata": {},
   "source": [
    "We are now ready to do the modeling, which will be done using a Random Forest Classifier. First we need to onehotencode some of our columns"
   ]
  },
  {
   "cell_type": "code",
   "execution_count": 232,
   "metadata": {},
   "outputs": [],
   "source": [
    "from sklearn.preprocessing import LabelEncoder \n",
    "from sklearn.preprocessing import OneHotEncoder \n",
    "from sklearn.compose import ColumnTransformer\n",
    "import matplotlib.pyplot as plt"
   ]
  },
  {
   "cell_type": "code",
   "execution_count": 182,
   "metadata": {},
   "outputs": [
    {
     "name": "stdout",
     "output_type": "stream",
     "text": [
      "<class 'pandas.core.frame.DataFrame'>\n",
      "Int64Index: 1165231 entries, 0 to 607345\n",
      "Data columns (total 8 columns):\n",
      "OP_CARRIER          1165231 non-null category\n",
      "ARR_DEL15           1165231 non-null float64\n",
      "DISTANCE            1165231 non-null float64\n",
      "WEEKEND             1165231 non-null int64\n",
      "DELAY_PRONE         1165231 non-null int64\n",
      "DELAY_PRONE_ORIG    1165231 non-null int64\n",
      "ARR_TIME_CAT        1165231 non-null category\n",
      "DEP_TIME_CAT        1165231 non-null category\n",
      "dtypes: category(3), float64(2), int64(3)\n",
      "memory usage: 56.7 MB\n"
     ]
    }
   ],
   "source": [
    "df['ARR_TIME_CAT'] = df['ARR_TIME_CAT'].astype('category')\n",
    "df['DEP_TIME_CAT'] = df['DEP_TIME_CAT'].astype('category')\n",
    "df.info()"
   ]
  },
  {
   "cell_type": "code",
   "execution_count": 198,
   "metadata": {},
   "outputs": [
    {
     "name": "stderr",
     "output_type": "stream",
     "text": [
      "/Users/dshenker/opt/anaconda3/lib/python3.7/site-packages/sklearn/preprocessing/_encoders.py:415: FutureWarning: The handling of integer data will change in version 0.22. Currently, the categories are determined based on the range [0, max(values)], while in the future they will be determined based on the unique values.\n",
      "If you want the future behaviour and silence this warning, you can specify \"categories='auto'\".\n",
      "In case you used a LabelEncoder before this OneHotEncoder to convert the categories to integers, then you can now use the OneHotEncoder directly.\n",
      "  warnings.warn(msg, FutureWarning)\n",
      "/Users/dshenker/opt/anaconda3/lib/python3.7/site-packages/sklearn/preprocessing/_encoders.py:415: FutureWarning: The handling of integer data will change in version 0.22. Currently, the categories are determined based on the range [0, max(values)], while in the future they will be determined based on the unique values.\n",
      "If you want the future behaviour and silence this warning, you can specify \"categories='auto'\".\n",
      "In case you used a LabelEncoder before this OneHotEncoder to convert the categories to integers, then you can now use the OneHotEncoder directly.\n",
      "  warnings.warn(msg, FutureWarning)\n",
      "/Users/dshenker/opt/anaconda3/lib/python3.7/site-packages/sklearn/preprocessing/_encoders.py:415: FutureWarning: The handling of integer data will change in version 0.22. Currently, the categories are determined based on the range [0, max(values)], while in the future they will be determined based on the unique values.\n",
      "If you want the future behaviour and silence this warning, you can specify \"categories='auto'\".\n",
      "In case you used a LabelEncoder before this OneHotEncoder to convert the categories to integers, then you can now use the OneHotEncoder directly.\n",
      "  warnings.warn(msg, FutureWarning)\n",
      "/Users/dshenker/opt/anaconda3/lib/python3.7/site-packages/ipykernel_launcher.py:18: FutureWarning: Sorting because non-concatenation axis is not aligned. A future version\n",
      "of pandas will change to not sort by default.\n",
      "\n",
      "To accept the future behavior, pass 'sort=False'.\n",
      "\n",
      "To retain the current behavior and silence the warning, pass 'sort=True'.\n",
      "\n"
     ]
    }
   ],
   "source": [
    "labelencoder = LabelEncoder()\n",
    "enc = OneHotEncoder()\n",
    "df = df.reset_index()\n",
    "df['OP_CARRIER'] = labelencoder.fit_transform(df['OP_CARRIER'])\n",
    "df['ARR_TIME_CAT'] = labelencoder.fit_transform(df['ARR_TIME_CAT'])\n",
    "df['DEP_TIME_CAT'] = labelencoder.fit_transform(df['DEP_TIME_CAT'])\n",
    "\n",
    "\n",
    "carrier_encoded = pd.DataFrame(enc.fit_transform(df[['OP_CARRIER']]).toarray())\n",
    "carrier_encoded.columns = enc.get_feature_names(['OP_CARRIER'])\n",
    "\n",
    "arr_time_encoded = pd.DataFrame(enc.fit_transform(df[['ARR_TIME_CAT']]).toarray())\n",
    "arr_time_encoded.columns = enc.get_feature_names(['ARR_TIME_CAT'])\n",
    "\n",
    "dep_time_encoded = pd.DataFrame(enc.fit_transform(df[['DEP_TIME_CAT']]).toarray())\n",
    "dep_time_encoded.columns = enc.get_feature_names(['DEP_TIME_CAT'])\n"
   ]
  },
  {
   "cell_type": "code",
   "execution_count": 204,
   "metadata": {},
   "outputs": [],
   "source": [
    "df_new = df.join(carrier_encoded)\n",
    "df_new = df_new.join(arr_time_encoded)\n",
    "df_new = df_new.join(dep_time_encoded)"
   ]
  },
  {
   "cell_type": "code",
   "execution_count": 209,
   "metadata": {},
   "outputs": [
    {
     "data": {
      "text/html": [
       "<div>\n",
       "<style scoped>\n",
       "    .dataframe tbody tr th:only-of-type {\n",
       "        vertical-align: middle;\n",
       "    }\n",
       "\n",
       "    .dataframe tbody tr th {\n",
       "        vertical-align: top;\n",
       "    }\n",
       "\n",
       "    .dataframe thead th {\n",
       "        text-align: right;\n",
       "    }\n",
       "</style>\n",
       "<table border=\"1\" class=\"dataframe\">\n",
       "  <thead>\n",
       "    <tr style=\"text-align: right;\">\n",
       "      <th></th>\n",
       "      <th>index</th>\n",
       "      <th>OP_CARRIER</th>\n",
       "      <th>ARR_DEL15</th>\n",
       "      <th>DISTANCE</th>\n",
       "      <th>WEEKEND</th>\n",
       "      <th>DELAY_PRONE</th>\n",
       "      <th>DELAY_PRONE_ORIG</th>\n",
       "      <th>ARR_TIME_CAT</th>\n",
       "      <th>DEP_TIME_CAT</th>\n",
       "      <th>OP_CARRIER_0.0</th>\n",
       "      <th>...</th>\n",
       "      <th>ARR_TIME_CAT_1.0</th>\n",
       "      <th>ARR_TIME_CAT_2.0</th>\n",
       "      <th>ARR_TIME_CAT_3.0</th>\n",
       "      <th>ARR_TIME_CAT_4.0</th>\n",
       "      <th>ARR_TIME_CAT_5.0</th>\n",
       "      <th>DEP_TIME_CAT_0.0</th>\n",
       "      <th>DEP_TIME_CAT_1.0</th>\n",
       "      <th>DEP_TIME_CAT_2.0</th>\n",
       "      <th>DEP_TIME_CAT_3.0</th>\n",
       "      <th>DEP_TIME_CAT_4.0</th>\n",
       "    </tr>\n",
       "  </thead>\n",
       "  <tbody>\n",
       "    <tr>\n",
       "      <td>0</td>\n",
       "      <td>0</td>\n",
       "      <td>0</td>\n",
       "      <td>0.0</td>\n",
       "      <td>300.0</td>\n",
       "      <td>0</td>\n",
       "      <td>0</td>\n",
       "      <td>0</td>\n",
       "      <td>5</td>\n",
       "      <td>4</td>\n",
       "      <td>1.0</td>\n",
       "      <td>...</td>\n",
       "      <td>0.0</td>\n",
       "      <td>0.0</td>\n",
       "      <td>0.0</td>\n",
       "      <td>0.0</td>\n",
       "      <td>1.0</td>\n",
       "      <td>0.0</td>\n",
       "      <td>0.0</td>\n",
       "      <td>0.0</td>\n",
       "      <td>0.0</td>\n",
       "      <td>1.0</td>\n",
       "    </tr>\n",
       "    <tr>\n",
       "      <td>1</td>\n",
       "      <td>1</td>\n",
       "      <td>0</td>\n",
       "      <td>0.0</td>\n",
       "      <td>596.0</td>\n",
       "      <td>0</td>\n",
       "      <td>0</td>\n",
       "      <td>0</td>\n",
       "      <td>1</td>\n",
       "      <td>0</td>\n",
       "      <td>1.0</td>\n",
       "      <td>...</td>\n",
       "      <td>1.0</td>\n",
       "      <td>0.0</td>\n",
       "      <td>0.0</td>\n",
       "      <td>0.0</td>\n",
       "      <td>0.0</td>\n",
       "      <td>1.0</td>\n",
       "      <td>0.0</td>\n",
       "      <td>0.0</td>\n",
       "      <td>0.0</td>\n",
       "      <td>0.0</td>\n",
       "    </tr>\n",
       "    <tr>\n",
       "      <td>2</td>\n",
       "      <td>2</td>\n",
       "      <td>0</td>\n",
       "      <td>0.0</td>\n",
       "      <td>229.0</td>\n",
       "      <td>0</td>\n",
       "      <td>0</td>\n",
       "      <td>0</td>\n",
       "      <td>1</td>\n",
       "      <td>0</td>\n",
       "      <td>1.0</td>\n",
       "      <td>...</td>\n",
       "      <td>1.0</td>\n",
       "      <td>0.0</td>\n",
       "      <td>0.0</td>\n",
       "      <td>0.0</td>\n",
       "      <td>0.0</td>\n",
       "      <td>1.0</td>\n",
       "      <td>0.0</td>\n",
       "      <td>0.0</td>\n",
       "      <td>0.0</td>\n",
       "      <td>0.0</td>\n",
       "    </tr>\n",
       "    <tr>\n",
       "      <td>3</td>\n",
       "      <td>3</td>\n",
       "      <td>0</td>\n",
       "      <td>0.0</td>\n",
       "      <td>223.0</td>\n",
       "      <td>0</td>\n",
       "      <td>0</td>\n",
       "      <td>0</td>\n",
       "      <td>1</td>\n",
       "      <td>0</td>\n",
       "      <td>1.0</td>\n",
       "      <td>...</td>\n",
       "      <td>1.0</td>\n",
       "      <td>0.0</td>\n",
       "      <td>0.0</td>\n",
       "      <td>0.0</td>\n",
       "      <td>0.0</td>\n",
       "      <td>1.0</td>\n",
       "      <td>0.0</td>\n",
       "      <td>0.0</td>\n",
       "      <td>0.0</td>\n",
       "      <td>0.0</td>\n",
       "    </tr>\n",
       "    <tr>\n",
       "      <td>4</td>\n",
       "      <td>4</td>\n",
       "      <td>0</td>\n",
       "      <td>0.0</td>\n",
       "      <td>579.0</td>\n",
       "      <td>0</td>\n",
       "      <td>0</td>\n",
       "      <td>0</td>\n",
       "      <td>2</td>\n",
       "      <td>1</td>\n",
       "      <td>1.0</td>\n",
       "      <td>...</td>\n",
       "      <td>0.0</td>\n",
       "      <td>1.0</td>\n",
       "      <td>0.0</td>\n",
       "      <td>0.0</td>\n",
       "      <td>0.0</td>\n",
       "      <td>0.0</td>\n",
       "      <td>1.0</td>\n",
       "      <td>0.0</td>\n",
       "      <td>0.0</td>\n",
       "      <td>0.0</td>\n",
       "    </tr>\n",
       "    <tr>\n",
       "      <td>...</td>\n",
       "      <td>...</td>\n",
       "      <td>...</td>\n",
       "      <td>...</td>\n",
       "      <td>...</td>\n",
       "      <td>...</td>\n",
       "      <td>...</td>\n",
       "      <td>...</td>\n",
       "      <td>...</td>\n",
       "      <td>...</td>\n",
       "      <td>...</td>\n",
       "      <td>...</td>\n",
       "      <td>...</td>\n",
       "      <td>...</td>\n",
       "      <td>...</td>\n",
       "      <td>...</td>\n",
       "      <td>...</td>\n",
       "      <td>...</td>\n",
       "      <td>...</td>\n",
       "      <td>...</td>\n",
       "      <td>...</td>\n",
       "      <td>...</td>\n",
       "    </tr>\n",
       "    <tr>\n",
       "      <td>1165226</td>\n",
       "      <td>607341</td>\n",
       "      <td>0</td>\n",
       "      <td>1.0</td>\n",
       "      <td>443.0</td>\n",
       "      <td>1</td>\n",
       "      <td>0</td>\n",
       "      <td>0</td>\n",
       "      <td>5</td>\n",
       "      <td>4</td>\n",
       "      <td>1.0</td>\n",
       "      <td>...</td>\n",
       "      <td>0.0</td>\n",
       "      <td>0.0</td>\n",
       "      <td>0.0</td>\n",
       "      <td>0.0</td>\n",
       "      <td>1.0</td>\n",
       "      <td>0.0</td>\n",
       "      <td>0.0</td>\n",
       "      <td>0.0</td>\n",
       "      <td>0.0</td>\n",
       "      <td>1.0</td>\n",
       "    </tr>\n",
       "    <tr>\n",
       "      <td>1165227</td>\n",
       "      <td>607342</td>\n",
       "      <td>0</td>\n",
       "      <td>0.0</td>\n",
       "      <td>509.0</td>\n",
       "      <td>1</td>\n",
       "      <td>0</td>\n",
       "      <td>0</td>\n",
       "      <td>2</td>\n",
       "      <td>1</td>\n",
       "      <td>1.0</td>\n",
       "      <td>...</td>\n",
       "      <td>0.0</td>\n",
       "      <td>1.0</td>\n",
       "      <td>0.0</td>\n",
       "      <td>0.0</td>\n",
       "      <td>0.0</td>\n",
       "      <td>0.0</td>\n",
       "      <td>1.0</td>\n",
       "      <td>0.0</td>\n",
       "      <td>0.0</td>\n",
       "      <td>0.0</td>\n",
       "    </tr>\n",
       "    <tr>\n",
       "      <td>1165228</td>\n",
       "      <td>607343</td>\n",
       "      <td>0</td>\n",
       "      <td>0.0</td>\n",
       "      <td>610.0</td>\n",
       "      <td>1</td>\n",
       "      <td>1</td>\n",
       "      <td>0</td>\n",
       "      <td>5</td>\n",
       "      <td>4</td>\n",
       "      <td>1.0</td>\n",
       "      <td>...</td>\n",
       "      <td>0.0</td>\n",
       "      <td>0.0</td>\n",
       "      <td>0.0</td>\n",
       "      <td>0.0</td>\n",
       "      <td>1.0</td>\n",
       "      <td>0.0</td>\n",
       "      <td>0.0</td>\n",
       "      <td>0.0</td>\n",
       "      <td>0.0</td>\n",
       "      <td>1.0</td>\n",
       "    </tr>\n",
       "    <tr>\n",
       "      <td>1165229</td>\n",
       "      <td>607344</td>\n",
       "      <td>0</td>\n",
       "      <td>0.0</td>\n",
       "      <td>589.0</td>\n",
       "      <td>1</td>\n",
       "      <td>0</td>\n",
       "      <td>0</td>\n",
       "      <td>2</td>\n",
       "      <td>1</td>\n",
       "      <td>1.0</td>\n",
       "      <td>...</td>\n",
       "      <td>0.0</td>\n",
       "      <td>1.0</td>\n",
       "      <td>0.0</td>\n",
       "      <td>0.0</td>\n",
       "      <td>0.0</td>\n",
       "      <td>0.0</td>\n",
       "      <td>1.0</td>\n",
       "      <td>0.0</td>\n",
       "      <td>0.0</td>\n",
       "      <td>0.0</td>\n",
       "    </tr>\n",
       "    <tr>\n",
       "      <td>1165230</td>\n",
       "      <td>607345</td>\n",
       "      <td>0</td>\n",
       "      <td>0.0</td>\n",
       "      <td>589.0</td>\n",
       "      <td>1</td>\n",
       "      <td>0</td>\n",
       "      <td>0</td>\n",
       "      <td>4</td>\n",
       "      <td>1</td>\n",
       "      <td>1.0</td>\n",
       "      <td>...</td>\n",
       "      <td>0.0</td>\n",
       "      <td>0.0</td>\n",
       "      <td>0.0</td>\n",
       "      <td>1.0</td>\n",
       "      <td>0.0</td>\n",
       "      <td>0.0</td>\n",
       "      <td>1.0</td>\n",
       "      <td>0.0</td>\n",
       "      <td>0.0</td>\n",
       "      <td>0.0</td>\n",
       "    </tr>\n",
       "  </tbody>\n",
       "</table>\n",
       "<p>1165231 rows × 37 columns</p>\n",
       "</div>"
      ],
      "text/plain": [
       "          index  OP_CARRIER  ARR_DEL15  DISTANCE  WEEKEND  DELAY_PRONE  \\\n",
       "0             0           0        0.0     300.0        0            0   \n",
       "1             1           0        0.0     596.0        0            0   \n",
       "2             2           0        0.0     229.0        0            0   \n",
       "3             3           0        0.0     223.0        0            0   \n",
       "4             4           0        0.0     579.0        0            0   \n",
       "...         ...         ...        ...       ...      ...          ...   \n",
       "1165226  607341           0        1.0     443.0        1            0   \n",
       "1165227  607342           0        0.0     509.0        1            0   \n",
       "1165228  607343           0        0.0     610.0        1            1   \n",
       "1165229  607344           0        0.0     589.0        1            0   \n",
       "1165230  607345           0        0.0     589.0        1            0   \n",
       "\n",
       "         DELAY_PRONE_ORIG  ARR_TIME_CAT  DEP_TIME_CAT  OP_CARRIER_0.0  ...  \\\n",
       "0                       0             5             4             1.0  ...   \n",
       "1                       0             1             0             1.0  ...   \n",
       "2                       0             1             0             1.0  ...   \n",
       "3                       0             1             0             1.0  ...   \n",
       "4                       0             2             1             1.0  ...   \n",
       "...                   ...           ...           ...             ...  ...   \n",
       "1165226                 0             5             4             1.0  ...   \n",
       "1165227                 0             2             1             1.0  ...   \n",
       "1165228                 0             5             4             1.0  ...   \n",
       "1165229                 0             2             1             1.0  ...   \n",
       "1165230                 0             4             1             1.0  ...   \n",
       "\n",
       "         ARR_TIME_CAT_1.0  ARR_TIME_CAT_2.0  ARR_TIME_CAT_3.0  \\\n",
       "0                     0.0               0.0               0.0   \n",
       "1                     1.0               0.0               0.0   \n",
       "2                     1.0               0.0               0.0   \n",
       "3                     1.0               0.0               0.0   \n",
       "4                     0.0               1.0               0.0   \n",
       "...                   ...               ...               ...   \n",
       "1165226               0.0               0.0               0.0   \n",
       "1165227               0.0               1.0               0.0   \n",
       "1165228               0.0               0.0               0.0   \n",
       "1165229               0.0               1.0               0.0   \n",
       "1165230               0.0               0.0               0.0   \n",
       "\n",
       "         ARR_TIME_CAT_4.0  ARR_TIME_CAT_5.0  DEP_TIME_CAT_0.0  \\\n",
       "0                     0.0               1.0               0.0   \n",
       "1                     0.0               0.0               1.0   \n",
       "2                     0.0               0.0               1.0   \n",
       "3                     0.0               0.0               1.0   \n",
       "4                     0.0               0.0               0.0   \n",
       "...                   ...               ...               ...   \n",
       "1165226               0.0               1.0               0.0   \n",
       "1165227               0.0               0.0               0.0   \n",
       "1165228               0.0               1.0               0.0   \n",
       "1165229               0.0               0.0               0.0   \n",
       "1165230               1.0               0.0               0.0   \n",
       "\n",
       "         DEP_TIME_CAT_1.0  DEP_TIME_CAT_2.0  DEP_TIME_CAT_3.0  \\\n",
       "0                     0.0               0.0               0.0   \n",
       "1                     0.0               0.0               0.0   \n",
       "2                     0.0               0.0               0.0   \n",
       "3                     0.0               0.0               0.0   \n",
       "4                     1.0               0.0               0.0   \n",
       "...                   ...               ...               ...   \n",
       "1165226               0.0               0.0               0.0   \n",
       "1165227               1.0               0.0               0.0   \n",
       "1165228               0.0               0.0               0.0   \n",
       "1165229               1.0               0.0               0.0   \n",
       "1165230               1.0               0.0               0.0   \n",
       "\n",
       "         DEP_TIME_CAT_4.0  \n",
       "0                     1.0  \n",
       "1                     0.0  \n",
       "2                     0.0  \n",
       "3                     0.0  \n",
       "4                     0.0  \n",
       "...                   ...  \n",
       "1165226               1.0  \n",
       "1165227               0.0  \n",
       "1165228               1.0  \n",
       "1165229               0.0  \n",
       "1165230               0.0  \n",
       "\n",
       "[1165231 rows x 37 columns]"
      ]
     },
     "execution_count": 209,
     "metadata": {},
     "output_type": "execute_result"
    }
   ],
   "source": [
    "df_new"
   ]
  },
  {
   "cell_type": "code",
   "execution_count": 210,
   "metadata": {},
   "outputs": [
    {
     "data": {
      "text/plain": [
       "Index(['index', 'OP_CARRIER', 'ARR_DEL15', 'DISTANCE', 'WEEKEND',\n",
       "       'DELAY_PRONE', 'DELAY_PRONE_ORIG', 'ARR_TIME_CAT', 'DEP_TIME_CAT',\n",
       "       'OP_CARRIER_0.0', 'OP_CARRIER_1.0', 'OP_CARRIER_2.0', 'OP_CARRIER_3.0',\n",
       "       'OP_CARRIER_4.0', 'OP_CARRIER_5.0', 'OP_CARRIER_6.0', 'OP_CARRIER_7.0',\n",
       "       'OP_CARRIER_8.0', 'OP_CARRIER_9.0', 'OP_CARRIER_10.0',\n",
       "       'OP_CARRIER_11.0', 'OP_CARRIER_12.0', 'OP_CARRIER_13.0',\n",
       "       'OP_CARRIER_14.0', 'OP_CARRIER_15.0', 'OP_CARRIER_16.0',\n",
       "       'ARR_TIME_CAT_0.0', 'ARR_TIME_CAT_1.0', 'ARR_TIME_CAT_2.0',\n",
       "       'ARR_TIME_CAT_3.0', 'ARR_TIME_CAT_4.0', 'ARR_TIME_CAT_5.0',\n",
       "       'DEP_TIME_CAT_0.0', 'DEP_TIME_CAT_1.0', 'DEP_TIME_CAT_2.0',\n",
       "       'DEP_TIME_CAT_3.0', 'DEP_TIME_CAT_4.0'],\n",
       "      dtype='object')"
      ]
     },
     "execution_count": 210,
     "metadata": {},
     "output_type": "execute_result"
    }
   ],
   "source": [
    "df_new.columns"
   ]
  },
  {
   "cell_type": "code",
   "execution_count": 211,
   "metadata": {},
   "outputs": [],
   "source": [
    "df_new = df_new.drop(columns = ['index', 'OP_CARRIER', 'ARR_TIME_CAT', 'DEP_TIME_CAT'])"
   ]
  },
  {
   "cell_type": "markdown",
   "metadata": {},
   "source": [
    "We now can do our train test split and apply the random forest classifier"
   ]
  },
  {
   "cell_type": "code",
   "execution_count": 223,
   "metadata": {},
   "outputs": [],
   "source": [
    "import sklearn.model_selection as model_selection\n",
    "from sklearn.ensemble import RandomForestClassifier\n",
    "from sklearn.metrics import confusion_matrix"
   ]
  },
  {
   "cell_type": "code",
   "execution_count": 214,
   "metadata": {},
   "outputs": [],
   "source": [
    "X = df_new.drop(columns = ['ARR_DEL15'])\n",
    "y = df_new['ARR_DEL15']\n",
    "[X_train, X_test, y_train, y_test] = model_selection.train_test_split(X, y, train_size=0.7,test_size=0.3, random_state=101)"
   ]
  },
  {
   "cell_type": "code",
   "execution_count": 226,
   "metadata": {},
   "outputs": [
    {
     "data": {
      "text/plain": [
       "RandomForestClassifier(bootstrap=True, class_weight=None, criterion='gini',\n",
       "                       max_depth=None, max_features='auto', max_leaf_nodes=None,\n",
       "                       min_impurity_decrease=0.0, min_impurity_split=None,\n",
       "                       min_samples_leaf=1, min_samples_split=2,\n",
       "                       min_weight_fraction_leaf=0.0, n_estimators=40,\n",
       "                       n_jobs=None, oob_score=False, random_state=0, verbose=0,\n",
       "                       warm_start=False)"
      ]
     },
     "execution_count": 226,
     "metadata": {},
     "output_type": "execute_result"
    }
   ],
   "source": [
    "clf= RandomForestClassifier(random_state=0, n_estimators = 20)\n",
    "clf.fit(X_train,y_train)"
   ]
  },
  {
   "cell_type": "code",
   "execution_count": 227,
   "metadata": {},
   "outputs": [
    {
     "data": {
      "text/plain": [
       "0.852332866092628"
      ]
     },
     "execution_count": 227,
     "metadata": {},
     "output_type": "execute_result"
    }
   ],
   "source": [
    "clf.score(X_test, y_test)"
   ]
  },
  {
   "cell_type": "code",
   "execution_count": 228,
   "metadata": {},
   "outputs": [
    {
     "name": "stdout",
     "output_type": "stream",
     "text": [
      "[[288015   5730]\n",
      " [ 45890   9935]]\n"
     ]
    }
   ],
   "source": [
    "print(confusion_matrix(y_test, clf.predict(X_test)))"
   ]
  },
  {
   "cell_type": "code",
   "execution_count": 230,
   "metadata": {},
   "outputs": [],
   "source": [
    "feature_importance = clf.feature_importances_"
   ]
  },
  {
   "cell_type": "code",
   "execution_count": 233,
   "metadata": {},
   "outputs": [
    {
     "data": {
      "text/plain": [
       "Text(0.5, 1.0, 'Feature Importance (MDI)')"
      ]
     },
     "execution_count": 233,
     "metadata": {},
     "output_type": "execute_result"
    },
    {
     "data": {
      "image/png": "[encoded data removed]",
      "text/plain": [
       "<Figure size 1440x720 with 1 Axes>"
      ]
     },
     "metadata": {
      "needs_background": "light"
     },
     "output_type": "display_data"
    }
   ],
   "source": [
    "sorted_idx = np.argsort(feature_importance)\n",
    "pos = np.arange(sorted_idx.shape[0]) + .5\n",
    "fig = plt.figure(figsize=(20, 10))\n",
    "plt.subplot(1, 2, 1)\n",
    "plt.barh(pos, feature_importance[sorted_idx], align='center')\n",
    "plt.yticks(pos, np.array(X_train.columns)[sorted_idx])\n",
    "plt.title('Feature Importance (MDI)')"
   ]
  },
  {
   "cell_type": "code",
   "execution_count": null,
   "metadata": {},
   "outputs": [],
   "source": []
  }
 ],
 "metadata": {
  "kernelspec": {
   "display_name": "Python 3",
   "language": "python",
   "name": "python3"
  },
  "language_info": {
   "codemirror_mode": {
    "name": "ipython",
    "version": 3
   },
   "file_extension": ".py",
   "mimetype": "text/x-python",
   "name": "python",
   "nbconvert_exporter": "python",
   "pygments_lexer": "ipython3",
   "version": "3.7.4"
  }
 },
 "nbformat": 4,
 "nbformat_minor": 2
}
